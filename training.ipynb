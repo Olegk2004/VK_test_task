{
  "nbformat": 4,
  "nbformat_minor": 0,
  "metadata": {
    "colab": {
      "provenance": []
    },
    "kernelspec": {
      "name": "python3",
      "display_name": "Python 3"
    },
    "language_info": {
      "name": "python"
    }
  },
  "cells": [
    {
      "cell_type": "code",
      "execution_count": 2,
      "metadata": {
        "colab": {
          "base_uri": "https://localhost:8080/"
        },
        "id": "yn1YBIT7pQfT",
        "outputId": "cacedfe3-0bbc-4140-9d6c-34a49deac34d"
      },
      "outputs": [
        {
          "output_type": "stream",
          "name": "stdout",
          "text": [
            "\u001b[?25l   \u001b[90m━━━━━━━━━━━━━━━━━━━━━━━━━━━━━━━━━━━━━━━━\u001b[0m \u001b[32m0.0/313.3 kB\u001b[0m \u001b[31m?\u001b[0m eta \u001b[36m-:--:--\u001b[0m\r\u001b[2K   \u001b[91m━━━━━━━━━━━━━━━━━━━━━━━━━━━━━━\u001b[0m\u001b[90m╺\u001b[0m\u001b[90m━━━━━━━━━\u001b[0m \u001b[32m235.5/313.3 kB\u001b[0m \u001b[31m6.9 MB/s\u001b[0m eta \u001b[36m0:00:01\u001b[0m\r\u001b[2K   \u001b[90m━━━━━━━━━━━━━━━━━━━━━━━━━━━━━━━━━━━━━━━━\u001b[0m \u001b[32m313.3/313.3 kB\u001b[0m \u001b[31m6.0 MB/s\u001b[0m eta \u001b[36m0:00:00\u001b[0m\n",
            "\u001b[?25h"
          ]
        }
      ],
      "source": [
        "!pip install -q flaml"
      ]
    },
    {
      "cell_type": "code",
      "source": [
        "import pandas as pd\n",
        "\n",
        "X_train = pd.read_csv('/content/X_train.csv')\n",
        "X_test = pd.read_csv('/content/X_test.csv')\n",
        "y_train = pd.read_csv('/content/y_train.csv')\n",
        "y_test = pd.read_csv('/content/y_test.csv')"
      ],
      "metadata": {
        "id": "SfLQidiDI4Te"
      },
      "execution_count": 1,
      "outputs": []
    },
    {
      "cell_type": "code",
      "execution_count": null,
      "metadata": {
        "colab": {
          "base_uri": "https://localhost:8080/"
        },
        "id": "tWn38BAwoBrc",
        "outputId": "eafd8dcb-01e7-4e4f-ece9-c7ba12013a1a"
      },
      "outputs": [
        {
          "output_type": "stream",
          "name": "stdout",
          "text": [
            "[flaml.automl.logger: 10-23 13:24:08] {1728} INFO - task = classification\n",
            "[flaml.automl.logger: 10-23 13:24:08] {1739} INFO - Evaluation method: cv\n",
            "[flaml.automl.logger: 10-23 13:24:09] {1838} INFO - Minimizing error metric: 1-roc_auc\n",
            "[flaml.automl.logger: 10-23 13:24:09] {1955} INFO - List of ML learners in AutoML Run: ['lgbm', 'rf', 'xgboost', 'extra_tree', 'xgb_limitdepth', 'sgd', 'catboost', 'lrl1']\n",
            "[flaml.automl.logger: 10-23 13:24:09] {2258} INFO - iteration 0, current learner lgbm\n",
            "[flaml.automl.logger: 10-23 13:24:10] {2393} INFO - Estimated sufficient time budget=18631s. Estimated necessary time budget=459s.\n",
            "[flaml.automl.logger: 10-23 13:24:10] {2442} INFO -  at 2.2s,\testimator lgbm's best error=0.2010,\tbest estimator lgbm's best error=0.2010\n",
            "[flaml.automl.logger: 10-23 13:24:10] {2258} INFO - iteration 1, current learner lgbm\n",
            "[flaml.automl.logger: 10-23 13:24:12] {2442} INFO -  at 4.1s,\testimator lgbm's best error=0.2003,\tbest estimator lgbm's best error=0.2003\n",
            "[flaml.automl.logger: 10-23 13:24:12] {2258} INFO - iteration 2, current learner sgd\n"
          ]
        },
        {
          "output_type": "stream",
          "name": "stderr",
          "text": [
            "INFO:flaml.tune.searcher.blendsearch:No low-cost partial config given to the search algorithm. For cost-frugal search, consider providing low-cost values for cost-related hps via 'low_cost_partial_config'. More info can be found at https://microsoft.github.io/FLAML/docs/FAQ#about-low_cost_partial_config-in-tune\n"
          ]
        },
        {
          "output_type": "stream",
          "name": "stdout",
          "text": [
            "[flaml.automl.logger: 10-23 13:24:14] {2442} INFO -  at 5.4s,\testimator sgd's best error=0.4077,\tbest estimator lgbm's best error=0.2003\n",
            "[flaml.automl.logger: 10-23 13:24:14] {2258} INFO - iteration 3, current learner sgd\n",
            "[flaml.automl.logger: 10-23 13:24:16] {2442} INFO -  at 7.4s,\testimator sgd's best error=0.4077,\tbest estimator lgbm's best error=0.2003\n",
            "[flaml.automl.logger: 10-23 13:24:16] {2258} INFO - iteration 4, current learner lgbm\n",
            "[flaml.automl.logger: 10-23 13:24:18] {2442} INFO -  at 9.4s,\testimator lgbm's best error=0.2003,\tbest estimator lgbm's best error=0.2003\n",
            "[flaml.automl.logger: 10-23 13:24:18] {2258} INFO - iteration 5, current learner lgbm\n",
            "[flaml.automl.logger: 10-23 13:24:21] {2442} INFO -  at 12.9s,\testimator lgbm's best error=0.1777,\tbest estimator lgbm's best error=0.1777\n",
            "[flaml.automl.logger: 10-23 13:24:21] {2258} INFO - iteration 6, current learner xgboost\n",
            "[flaml.automl.logger: 10-23 13:24:22] {2442} INFO -  at 13.7s,\testimator xgboost's best error=0.2025,\tbest estimator lgbm's best error=0.1777\n",
            "[flaml.automl.logger: 10-23 13:24:22] {2258} INFO - iteration 7, current learner xgboost\n",
            "[flaml.automl.logger: 10-23 13:24:23] {2442} INFO -  at 14.6s,\testimator xgboost's best error=0.1958,\tbest estimator lgbm's best error=0.1777\n",
            "[flaml.automl.logger: 10-23 13:24:23] {2258} INFO - iteration 8, current learner extra_tree\n",
            "[flaml.automl.logger: 10-23 13:24:23] {2442} INFO -  at 15.3s,\testimator extra_tree's best error=0.3374,\tbest estimator lgbm's best error=0.1777\n",
            "[flaml.automl.logger: 10-23 13:24:23] {2258} INFO - iteration 9, current learner xgboost\n",
            "[flaml.automl.logger: 10-23 13:24:24] {2442} INFO -  at 16.1s,\testimator xgboost's best error=0.1958,\tbest estimator lgbm's best error=0.1777\n",
            "[flaml.automl.logger: 10-23 13:24:24] {2258} INFO - iteration 10, current learner extra_tree\n",
            "[flaml.automl.logger: 10-23 13:24:25] {2442} INFO -  at 16.9s,\testimator extra_tree's best error=0.2288,\tbest estimator lgbm's best error=0.1777\n",
            "[flaml.automl.logger: 10-23 13:24:25] {2258} INFO - iteration 11, current learner extra_tree\n",
            "[flaml.automl.logger: 10-23 13:24:26] {2442} INFO -  at 17.5s,\testimator extra_tree's best error=0.2288,\tbest estimator lgbm's best error=0.1777\n",
            "[flaml.automl.logger: 10-23 13:24:26] {2258} INFO - iteration 12, current learner extra_tree\n",
            "[flaml.automl.logger: 10-23 13:24:27] {2442} INFO -  at 18.4s,\testimator extra_tree's best error=0.2215,\tbest estimator lgbm's best error=0.1777\n",
            "[flaml.automl.logger: 10-23 13:24:27] {2258} INFO - iteration 13, current learner extra_tree\n",
            "[flaml.automl.logger: 10-23 13:24:27] {2442} INFO -  at 19.2s,\testimator extra_tree's best error=0.2215,\tbest estimator lgbm's best error=0.1777\n",
            "[flaml.automl.logger: 10-23 13:24:27] {2258} INFO - iteration 14, current learner xgboost\n",
            "[flaml.automl.logger: 10-23 13:24:28] {2442} INFO -  at 20.2s,\testimator xgboost's best error=0.1936,\tbest estimator lgbm's best error=0.1777\n",
            "[flaml.automl.logger: 10-23 13:24:28] {2258} INFO - iteration 15, current learner sgd\n",
            "[flaml.automl.logger: 10-23 13:24:29] {2442} INFO -  at 21.2s,\testimator sgd's best error=0.4077,\tbest estimator lgbm's best error=0.1777\n",
            "[flaml.automl.logger: 10-23 13:24:29] {2258} INFO - iteration 16, current learner rf\n",
            "[flaml.automl.logger: 10-23 13:24:31] {2442} INFO -  at 22.5s,\testimator rf's best error=0.2118,\tbest estimator lgbm's best error=0.1777\n",
            "[flaml.automl.logger: 10-23 13:24:31] {2258} INFO - iteration 17, current learner rf\n",
            "[flaml.automl.logger: 10-23 13:24:33] {2442} INFO -  at 24.5s,\testimator rf's best error=0.1901,\tbest estimator lgbm's best error=0.1777\n",
            "[flaml.automl.logger: 10-23 13:24:33] {2258} INFO - iteration 18, current learner sgd\n",
            "[flaml.automl.logger: 10-23 13:24:35] {2442} INFO -  at 27.3s,\testimator sgd's best error=0.4060,\tbest estimator lgbm's best error=0.1777\n",
            "[flaml.automl.logger: 10-23 13:24:35] {2258} INFO - iteration 19, current learner lgbm\n",
            "[flaml.automl.logger: 10-23 13:24:36] {2442} INFO -  at 28.3s,\testimator lgbm's best error=0.1777,\tbest estimator lgbm's best error=0.1777\n",
            "[flaml.automl.logger: 10-23 13:24:36] {2258} INFO - iteration 20, current learner rf\n",
            "[flaml.automl.logger: 10-23 13:24:38] {2442} INFO -  at 29.4s,\testimator rf's best error=0.1901,\tbest estimator lgbm's best error=0.1777\n",
            "[flaml.automl.logger: 10-23 13:24:38] {2258} INFO - iteration 21, current learner rf\n",
            "[flaml.automl.logger: 10-23 13:24:40] {2442} INFO -  at 31.4s,\testimator rf's best error=0.1824,\tbest estimator lgbm's best error=0.1777\n",
            "[flaml.automl.logger: 10-23 13:24:40] {2258} INFO - iteration 22, current learner rf\n",
            "[flaml.automl.logger: 10-23 13:24:41] {2442} INFO -  at 32.9s,\testimator rf's best error=0.1824,\tbest estimator lgbm's best error=0.1777\n",
            "[flaml.automl.logger: 10-23 13:24:41] {2258} INFO - iteration 23, current learner lgbm\n",
            "[flaml.automl.logger: 10-23 13:24:42] {2442} INFO -  at 34.1s,\testimator lgbm's best error=0.1711,\tbest estimator lgbm's best error=0.1711\n",
            "[flaml.automl.logger: 10-23 13:24:42] {2258} INFO - iteration 24, current learner lgbm\n",
            "[flaml.automl.logger: 10-23 13:24:43] {2442} INFO -  at 35.3s,\testimator lgbm's best error=0.1711,\tbest estimator lgbm's best error=0.1711\n",
            "[flaml.automl.logger: 10-23 13:24:43] {2258} INFO - iteration 25, current learner rf\n",
            "[flaml.automl.logger: 10-23 13:24:47] {2442} INFO -  at 38.9s,\testimator rf's best error=0.1824,\tbest estimator lgbm's best error=0.1711\n",
            "[flaml.automl.logger: 10-23 13:24:47] {2258} INFO - iteration 26, current learner extra_tree\n",
            "[flaml.automl.logger: 10-23 13:24:49] {2442} INFO -  at 40.8s,\testimator extra_tree's best error=0.2215,\tbest estimator lgbm's best error=0.1711\n",
            "[flaml.automl.logger: 10-23 13:24:49] {2258} INFO - iteration 27, current learner lgbm\n",
            "[flaml.automl.logger: 10-23 13:24:50] {2442} INFO -  at 41.8s,\testimator lgbm's best error=0.1711,\tbest estimator lgbm's best error=0.1711\n",
            "[flaml.automl.logger: 10-23 13:24:50] {2258} INFO - iteration 28, current learner lgbm\n",
            "[flaml.automl.logger: 10-23 13:24:52] {2442} INFO -  at 43.9s,\testimator lgbm's best error=0.1669,\tbest estimator lgbm's best error=0.1669\n",
            "[flaml.automl.logger: 10-23 13:24:52] {2258} INFO - iteration 29, current learner xgboost\n",
            "[flaml.automl.logger: 10-23 13:24:53] {2442} INFO -  at 44.8s,\testimator xgboost's best error=0.1819,\tbest estimator lgbm's best error=0.1669\n",
            "[flaml.automl.logger: 10-23 13:24:53] {2258} INFO - iteration 30, current learner xgboost\n",
            "[flaml.automl.logger: 10-23 13:24:54] {2442} INFO -  at 45.7s,\testimator xgboost's best error=0.1819,\tbest estimator lgbm's best error=0.1669\n",
            "[flaml.automl.logger: 10-23 13:24:54] {2258} INFO - iteration 31, current learner lgbm\n",
            "[flaml.automl.logger: 10-23 13:24:55] {2442} INFO -  at 46.9s,\testimator lgbm's best error=0.1669,\tbest estimator lgbm's best error=0.1669\n",
            "[flaml.automl.logger: 10-23 13:24:55] {2258} INFO - iteration 32, current learner lgbm\n",
            "[flaml.automl.logger: 10-23 13:25:08] {2442} INFO -  at 59.6s,\testimator lgbm's best error=0.1520,\tbest estimator lgbm's best error=0.1520\n",
            "[flaml.automl.logger: 10-23 13:25:08] {2258} INFO - iteration 33, current learner lgbm\n",
            "[flaml.automl.logger: 10-23 13:25:21] {2442} INFO -  at 73.0s,\testimator lgbm's best error=0.1361,\tbest estimator lgbm's best error=0.1361\n",
            "[flaml.automl.logger: 10-23 13:25:21] {2258} INFO - iteration 34, current learner xgboost\n",
            "[flaml.automl.logger: 10-23 13:25:22] {2442} INFO -  at 74.1s,\testimator xgboost's best error=0.1711,\tbest estimator lgbm's best error=0.1361\n",
            "[flaml.automl.logger: 10-23 13:25:22] {2258} INFO - iteration 35, current learner lgbm\n",
            "[flaml.automl.logger: 10-23 13:25:34] {2442} INFO -  at 86.1s,\testimator lgbm's best error=0.1361,\tbest estimator lgbm's best error=0.1361\n",
            "[flaml.automl.logger: 10-23 13:25:34] {2258} INFO - iteration 36, current learner lgbm\n",
            "[flaml.automl.logger: 10-23 13:25:47] {2442} INFO -  at 98.6s,\testimator lgbm's best error=0.1361,\tbest estimator lgbm's best error=0.1361\n",
            "[flaml.automl.logger: 10-23 13:25:47] {2258} INFO - iteration 37, current learner extra_tree\n",
            "[flaml.automl.logger: 10-23 13:25:47] {2442} INFO -  at 99.3s,\testimator extra_tree's best error=0.2215,\tbest estimator lgbm's best error=0.1361\n",
            "[flaml.automl.logger: 10-23 13:25:47] {2258} INFO - iteration 38, current learner xgboost\n",
            "[flaml.automl.logger: 10-23 13:25:49] {2442} INFO -  at 100.7s,\testimator xgboost's best error=0.1595,\tbest estimator lgbm's best error=0.1361\n",
            "[flaml.automl.logger: 10-23 13:25:49] {2258} INFO - iteration 39, current learner xgboost\n",
            "[flaml.automl.logger: 10-23 13:25:50] {2442} INFO -  at 101.9s,\testimator xgboost's best error=0.1595,\tbest estimator lgbm's best error=0.1361\n",
            "[flaml.automl.logger: 10-23 13:25:50] {2258} INFO - iteration 40, current learner rf\n",
            "[flaml.automl.logger: 10-23 13:25:51] {2442} INFO -  at 103.2s,\testimator rf's best error=0.1824,\tbest estimator lgbm's best error=0.1361\n",
            "[flaml.automl.logger: 10-23 13:25:51] {2258} INFO - iteration 41, current learner xgboost\n",
            "[flaml.automl.logger: 10-23 13:25:53] {2442} INFO -  at 104.8s,\testimator xgboost's best error=0.1527,\tbest estimator lgbm's best error=0.1361\n",
            "[flaml.automl.logger: 10-23 13:25:53] {2258} INFO - iteration 42, current learner xgboost\n",
            "[flaml.automl.logger: 10-23 13:25:56] {2442} INFO -  at 107.8s,\testimator xgboost's best error=0.1527,\tbest estimator lgbm's best error=0.1361\n",
            "[flaml.automl.logger: 10-23 13:25:56] {2258} INFO - iteration 43, current learner lgbm\n",
            "[flaml.automl.logger: 10-23 13:26:09] {2442} INFO -  at 120.4s,\testimator lgbm's best error=0.1361,\tbest estimator lgbm's best error=0.1361\n",
            "[flaml.automl.logger: 10-23 13:26:09] {2258} INFO - iteration 44, current learner catboost\n",
            "[flaml.automl.logger: 10-23 13:26:17] {2442} INFO -  at 129.2s,\testimator catboost's best error=0.1508,\tbest estimator lgbm's best error=0.1361\n",
            "[flaml.automl.logger: 10-23 13:26:17] {2258} INFO - iteration 45, current learner catboost\n",
            "[flaml.automl.logger: 10-23 13:26:42] {2442} INFO -  at 153.5s,\testimator catboost's best error=0.1508,\tbest estimator lgbm's best error=0.1361\n",
            "[flaml.automl.logger: 10-23 13:26:42] {2258} INFO - iteration 46, current learner catboost\n",
            "[flaml.automl.logger: 10-23 13:26:47] {2442} INFO -  at 158.8s,\testimator catboost's best error=0.1498,\tbest estimator lgbm's best error=0.1361\n",
            "[flaml.automl.logger: 10-23 13:26:47] {2258} INFO - iteration 47, current learner xgboost\n",
            "[flaml.automl.logger: 10-23 13:26:48] {2442} INFO -  at 160.0s,\testimator xgboost's best error=0.1527,\tbest estimator lgbm's best error=0.1361\n",
            "[flaml.automl.logger: 10-23 13:26:48] {2258} INFO - iteration 48, current learner lgbm\n",
            "[flaml.automl.logger: 10-23 13:27:11] {2442} INFO -  at 183.0s,\testimator lgbm's best error=0.1361,\tbest estimator lgbm's best error=0.1361\n",
            "[flaml.automl.logger: 10-23 13:27:11] {2258} INFO - iteration 49, current learner xgboost\n",
            "[flaml.automl.logger: 10-23 13:27:14] {2442} INFO -  at 185.6s,\testimator xgboost's best error=0.1526,\tbest estimator lgbm's best error=0.1361\n",
            "[flaml.automl.logger: 10-23 13:27:14] {2258} INFO - iteration 50, current learner lgbm\n",
            "[flaml.automl.logger: 10-23 13:27:24] {2442} INFO -  at 195.8s,\testimator lgbm's best error=0.1361,\tbest estimator lgbm's best error=0.1361\n",
            "[flaml.automl.logger: 10-23 13:27:24] {2258} INFO - iteration 51, current learner rf\n",
            "[flaml.automl.logger: 10-23 13:27:27] {2442} INFO -  at 198.9s,\testimator rf's best error=0.1824,\tbest estimator lgbm's best error=0.1361\n",
            "[flaml.automl.logger: 10-23 13:27:27] {2258} INFO - iteration 52, current learner extra_tree\n",
            "[flaml.automl.logger: 10-23 13:27:28] {2442} INFO -  at 200.3s,\testimator extra_tree's best error=0.2215,\tbest estimator lgbm's best error=0.1361\n",
            "[flaml.automl.logger: 10-23 13:27:28] {2258} INFO - iteration 53, current learner lgbm\n",
            "[flaml.automl.logger: 10-23 13:27:49] {2442} INFO -  at 221.3s,\testimator lgbm's best error=0.1361,\tbest estimator lgbm's best error=0.1361\n",
            "[flaml.automl.logger: 10-23 13:27:49] {2258} INFO - iteration 54, current learner lgbm\n",
            "[flaml.automl.logger: 10-23 13:28:00] {2442} INFO -  at 231.4s,\testimator lgbm's best error=0.1361,\tbest estimator lgbm's best error=0.1361\n",
            "[flaml.automl.logger: 10-23 13:28:00] {2258} INFO - iteration 55, current learner lgbm\n",
            "[flaml.automl.logger: 10-23 13:28:05] {2442} INFO -  at 237.0s,\testimator lgbm's best error=0.1361,\tbest estimator lgbm's best error=0.1361\n",
            "[flaml.automl.logger: 10-23 13:28:05] {2258} INFO - iteration 56, current learner lgbm\n",
            "[flaml.automl.logger: 10-23 13:28:43] {2442} INFO -  at 275.0s,\testimator lgbm's best error=0.1266,\tbest estimator lgbm's best error=0.1266\n",
            "[flaml.automl.logger: 10-23 13:28:43] {2258} INFO - iteration 57, current learner xgb_limitdepth\n",
            "[flaml.automl.logger: 10-23 13:28:45] {2442} INFO -  at 276.6s,\testimator xgb_limitdepth's best error=0.1533,\tbest estimator lgbm's best error=0.1266\n",
            "[flaml.automl.logger: 10-23 13:28:45] {2258} INFO - iteration 58, current learner xgb_limitdepth\n",
            "[flaml.automl.logger: 10-23 13:28:46] {2442} INFO -  at 277.8s,\testimator xgb_limitdepth's best error=0.1533,\tbest estimator lgbm's best error=0.1266\n",
            "[flaml.automl.logger: 10-23 13:28:46] {2258} INFO - iteration 59, current learner xgb_limitdepth\n",
            "[flaml.automl.logger: 10-23 13:28:47] {2442} INFO -  at 279.2s,\testimator xgb_limitdepth's best error=0.1533,\tbest estimator lgbm's best error=0.1266\n",
            "[flaml.automl.logger: 10-23 13:28:47] {2258} INFO - iteration 60, current learner xgb_limitdepth\n",
            "[flaml.automl.logger: 10-23 13:28:48] {2442} INFO -  at 280.3s,\testimator xgb_limitdepth's best error=0.1533,\tbest estimator lgbm's best error=0.1266\n",
            "[flaml.automl.logger: 10-23 13:28:48] {2258} INFO - iteration 61, current learner xgb_limitdepth\n",
            "[flaml.automl.logger: 10-23 13:28:50] {2442} INFO -  at 281.8s,\testimator xgb_limitdepth's best error=0.1533,\tbest estimator lgbm's best error=0.1266\n",
            "[flaml.automl.logger: 10-23 13:28:50] {2258} INFO - iteration 62, current learner rf\n",
            "[flaml.automl.logger: 10-23 13:28:51] {2442} INFO -  at 282.9s,\testimator rf's best error=0.1824,\tbest estimator lgbm's best error=0.1266\n",
            "[flaml.automl.logger: 10-23 13:28:51] {2258} INFO - iteration 63, current learner xgb_limitdepth\n",
            "[flaml.automl.logger: 10-23 13:28:52] {2442} INFO -  at 283.9s,\testimator xgb_limitdepth's best error=0.1533,\tbest estimator lgbm's best error=0.1266\n",
            "[flaml.automl.logger: 10-23 13:28:52] {2258} INFO - iteration 64, current learner xgb_limitdepth\n",
            "[flaml.automl.logger: 10-23 13:28:54] {2442} INFO -  at 286.3s,\testimator xgb_limitdepth's best error=0.1533,\tbest estimator lgbm's best error=0.1266\n",
            "[flaml.automl.logger: 10-23 13:28:54] {2258} INFO - iteration 65, current learner xgb_limitdepth\n",
            "[flaml.automl.logger: 10-23 13:28:58] {2442} INFO -  at 289.9s,\testimator xgb_limitdepth's best error=0.1533,\tbest estimator lgbm's best error=0.1266\n",
            "[flaml.automl.logger: 10-23 13:28:58] {2258} INFO - iteration 66, current learner xgb_limitdepth\n",
            "[flaml.automl.logger: 10-23 13:28:59] {2442} INFO -  at 291.1s,\testimator xgb_limitdepth's best error=0.1533,\tbest estimator lgbm's best error=0.1266\n",
            "[flaml.automl.logger: 10-23 13:28:59] {2258} INFO - iteration 67, current learner rf\n",
            "[flaml.automl.logger: 10-23 13:29:01] {2442} INFO -  at 292.8s,\testimator rf's best error=0.1824,\tbest estimator lgbm's best error=0.1266\n",
            "[flaml.automl.logger: 10-23 13:29:01] {2258} INFO - iteration 68, current learner xgb_limitdepth\n",
            "[flaml.automl.logger: 10-23 13:29:03] {2442} INFO -  at 294.5s,\testimator xgb_limitdepth's best error=0.1533,\tbest estimator lgbm's best error=0.1266\n",
            "[flaml.automl.logger: 10-23 13:29:03] {2258} INFO - iteration 69, current learner xgb_limitdepth\n",
            "[flaml.automl.logger: 10-23 13:29:04] {2442} INFO -  at 295.7s,\testimator xgb_limitdepth's best error=0.1533,\tbest estimator lgbm's best error=0.1266\n",
            "[flaml.automl.logger: 10-23 13:29:04] {2258} INFO - iteration 70, current learner xgb_limitdepth\n",
            "[flaml.automl.logger: 10-23 13:29:05] {2442} INFO -  at 296.8s,\testimator xgb_limitdepth's best error=0.1533,\tbest estimator lgbm's best error=0.1266\n",
            "[flaml.automl.logger: 10-23 13:29:05] {2258} INFO - iteration 71, current learner lgbm\n",
            "[flaml.automl.logger: 10-23 13:30:03] {2442} INFO -  at 354.9s,\testimator lgbm's best error=0.1266,\tbest estimator lgbm's best error=0.1266\n",
            "[flaml.automl.logger: 10-23 13:30:03] {2258} INFO - iteration 72, current learner xgb_limitdepth\n",
            "[flaml.automl.logger: 10-23 13:30:08] {2442} INFO -  at 359.3s,\testimator xgb_limitdepth's best error=0.1515,\tbest estimator lgbm's best error=0.1266\n",
            "[flaml.automl.logger: 10-23 13:30:08] {2258} INFO - iteration 73, current learner extra_tree\n",
            "[flaml.automl.logger: 10-23 13:30:08] {2442} INFO -  at 360.0s,\testimator extra_tree's best error=0.2215,\tbest estimator lgbm's best error=0.1266\n",
            "[flaml.automl.logger: 10-23 13:30:08] {2258} INFO - iteration 74, current learner rf\n",
            "[flaml.automl.logger: 10-23 13:30:10] {2442} INFO -  at 362.3s,\testimator rf's best error=0.1707,\tbest estimator lgbm's best error=0.1266\n",
            "[flaml.automl.logger: 10-23 13:30:10] {2258} INFO - iteration 75, current learner xgb_limitdepth\n",
            "[flaml.automl.logger: 10-23 13:30:12] {2442} INFO -  at 363.5s,\testimator xgb_limitdepth's best error=0.1515,\tbest estimator lgbm's best error=0.1266\n",
            "[flaml.automl.logger: 10-23 13:30:12] {2258} INFO - iteration 76, current learner rf\n",
            "[flaml.automl.logger: 10-23 13:30:13] {2442} INFO -  at 364.6s,\testimator rf's best error=0.1707,\tbest estimator lgbm's best error=0.1266\n",
            "[flaml.automl.logger: 10-23 13:30:13] {2258} INFO - iteration 77, current learner xgb_limitdepth\n",
            "[flaml.automl.logger: 10-23 13:30:16] {2442} INFO -  at 367.5s,\testimator xgb_limitdepth's best error=0.1511,\tbest estimator lgbm's best error=0.1266\n",
            "[flaml.automl.logger: 10-23 13:30:16] {2258} INFO - iteration 78, current learner lgbm\n",
            "[flaml.automl.logger: 10-23 13:30:38] {2442} INFO -  at 389.4s,\testimator lgbm's best error=0.1266,\tbest estimator lgbm's best error=0.1266\n",
            "[flaml.automl.logger: 10-23 13:30:38] {2258} INFO - iteration 79, current learner lgbm\n",
            "[flaml.automl.logger: 10-23 13:31:23] {2442} INFO -  at 434.3s,\testimator lgbm's best error=0.1266,\tbest estimator lgbm's best error=0.1266\n",
            "[flaml.automl.logger: 10-23 13:31:23] {2258} INFO - iteration 80, current learner extra_tree\n",
            "[flaml.automl.logger: 10-23 13:31:23] {2442} INFO -  at 435.1s,\testimator extra_tree's best error=0.2215,\tbest estimator lgbm's best error=0.1266\n",
            "[flaml.automl.logger: 10-23 13:31:23] {2258} INFO - iteration 81, current learner rf\n",
            "[flaml.automl.logger: 10-23 13:31:27] {2442} INFO -  at 438.6s,\testimator rf's best error=0.1649,\tbest estimator lgbm's best error=0.1266\n",
            "[flaml.automl.logger: 10-23 13:31:27] {2258} INFO - iteration 82, current learner lgbm\n",
            "[flaml.automl.logger: 10-23 13:32:05] {2442} INFO -  at 476.6s,\testimator lgbm's best error=0.1049,\tbest estimator lgbm's best error=0.1049\n",
            "[flaml.automl.logger: 10-23 13:32:05] {2258} INFO - iteration 83, current learner xgb_limitdepth\n",
            "[flaml.automl.logger: 10-23 13:32:07] {2442} INFO -  at 478.4s,\testimator xgb_limitdepth's best error=0.1511,\tbest estimator lgbm's best error=0.1049\n",
            "[flaml.automl.logger: 10-23 13:32:07] {2258} INFO - iteration 84, current learner rf\n",
            "[flaml.automl.logger: 10-23 13:32:08] {2442} INFO -  at 480.1s,\testimator rf's best error=0.1649,\tbest estimator lgbm's best error=0.1049\n",
            "[flaml.automl.logger: 10-23 13:32:08] {2258} INFO - iteration 85, current learner extra_tree\n",
            "[flaml.automl.logger: 10-23 13:32:10] {2442} INFO -  at 481.5s,\testimator extra_tree's best error=0.2086,\tbest estimator lgbm's best error=0.1049\n",
            "[flaml.automl.logger: 10-23 13:32:10] {2258} INFO - iteration 86, current learner extra_tree\n",
            "[flaml.automl.logger: 10-23 13:32:11] {2442} INFO -  at 482.5s,\testimator extra_tree's best error=0.2086,\tbest estimator lgbm's best error=0.1049\n",
            "[flaml.automl.logger: 10-23 13:32:11] {2258} INFO - iteration 87, current learner extra_tree\n",
            "[flaml.automl.logger: 10-23 13:32:12] {2442} INFO -  at 484.2s,\testimator extra_tree's best error=0.1898,\tbest estimator lgbm's best error=0.1049\n",
            "[flaml.automl.logger: 10-23 13:32:12] {2258} INFO - iteration 88, current learner extra_tree\n",
            "[flaml.automl.logger: 10-23 13:32:13] {2442} INFO -  at 485.0s,\testimator extra_tree's best error=0.1898,\tbest estimator lgbm's best error=0.1049\n",
            "[flaml.automl.logger: 10-23 13:32:13] {2258} INFO - iteration 89, current learner extra_tree\n",
            "[flaml.automl.logger: 10-23 13:32:16] {2442} INFO -  at 487.4s,\testimator extra_tree's best error=0.1856,\tbest estimator lgbm's best error=0.1049\n",
            "[flaml.automl.logger: 10-23 13:32:16] {2258} INFO - iteration 90, current learner rf\n",
            "[flaml.automl.logger: 10-23 13:32:25] {2442} INFO -  at 496.7s,\testimator rf's best error=0.1649,\tbest estimator lgbm's best error=0.1049\n",
            "[flaml.automl.logger: 10-23 13:32:25] {2258} INFO - iteration 91, current learner lgbm\n",
            "[flaml.automl.logger: 10-23 13:33:24] {2442} INFO -  at 556.3s,\testimator lgbm's best error=0.0713,\tbest estimator lgbm's best error=0.0713\n",
            "[flaml.automl.logger: 10-23 13:33:24] {2258} INFO - iteration 92, current learner extra_tree\n",
            "[flaml.automl.logger: 10-23 13:33:27] {2442} INFO -  at 558.7s,\testimator extra_tree's best error=0.1790,\tbest estimator lgbm's best error=0.0713\n",
            "[flaml.automl.logger: 10-23 13:33:27] {2258} INFO - iteration 93, current learner lgbm\n",
            "[flaml.automl.logger: 10-23 13:34:03] {2442} INFO -  at 594.7s,\testimator lgbm's best error=0.0713,\tbest estimator lgbm's best error=0.0713\n",
            "[flaml.automl.logger: 10-23 13:34:03] {2258} INFO - iteration 94, current learner extra_tree\n",
            "[flaml.automl.logger: 10-23 13:34:06] {2442} INFO -  at 597.3s,\testimator extra_tree's best error=0.1790,\tbest estimator lgbm's best error=0.0713\n",
            "[flaml.automl.logger: 10-23 13:34:06] {2258} INFO - iteration 95, current learner rf\n",
            "[flaml.automl.logger: 10-23 13:34:09] {2442} INFO -  at 600.7s,\testimator rf's best error=0.1634,\tbest estimator lgbm's best error=0.0713\n",
            "[flaml.automl.logger: 10-23 13:34:09] {2258} INFO - iteration 96, current learner lgbm\n",
            "[flaml.automl.logger: 10-23 13:35:12] {2442} INFO -  at 663.5s,\testimator lgbm's best error=0.0713,\tbest estimator lgbm's best error=0.0713\n",
            "[flaml.automl.logger: 10-23 13:35:12] {2258} INFO - iteration 97, current learner lgbm\n",
            "[flaml.automl.logger: 10-23 13:35:29] {2442} INFO -  at 680.7s,\testimator lgbm's best error=0.0713,\tbest estimator lgbm's best error=0.0713\n",
            "[flaml.automl.logger: 10-23 13:35:29] {2258} INFO - iteration 98, current learner xgb_limitdepth\n",
            "[flaml.automl.logger: 10-23 13:35:34] {2442} INFO -  at 685.5s,\testimator xgb_limitdepth's best error=0.1494,\tbest estimator lgbm's best error=0.0713\n",
            "[flaml.automl.logger: 10-23 13:35:34] {2258} INFO - iteration 99, current learner lgbm\n",
            "[flaml.automl.logger: 10-23 13:35:49] {2442} INFO -  at 700.4s,\testimator lgbm's best error=0.0713,\tbest estimator lgbm's best error=0.0713\n",
            "[flaml.automl.logger: 10-23 13:35:49] {2258} INFO - iteration 100, current learner extra_tree\n",
            "[flaml.automl.logger: 10-23 13:35:50] {2442} INFO -  at 701.6s,\testimator extra_tree's best error=0.1790,\tbest estimator lgbm's best error=0.0713\n",
            "[flaml.automl.logger: 10-23 13:35:50] {2258} INFO - iteration 101, current learner lgbm\n",
            "[flaml.automl.logger: 10-23 13:37:30] {2442} INFO -  at 801.5s,\testimator lgbm's best error=0.0713,\tbest estimator lgbm's best error=0.0713\n",
            "[flaml.automl.logger: 10-23 13:37:30] {2258} INFO - iteration 102, current learner lgbm\n",
            "[flaml.automl.logger: 10-23 13:37:44] {2442} INFO -  at 815.8s,\testimator lgbm's best error=0.0713,\tbest estimator lgbm's best error=0.0713\n",
            "[flaml.automl.logger: 10-23 13:37:44] {2258} INFO - iteration 103, current learner xgb_limitdepth\n",
            "[flaml.automl.logger: 10-23 13:37:49] {2442} INFO -  at 820.6s,\testimator xgb_limitdepth's best error=0.1494,\tbest estimator lgbm's best error=0.0713\n",
            "[flaml.automl.logger: 10-23 13:37:49] {2258} INFO - iteration 104, current learner extra_tree\n",
            "[flaml.automl.logger: 10-23 13:37:54] {2442} INFO -  at 825.6s,\testimator extra_tree's best error=0.1678,\tbest estimator lgbm's best error=0.0713\n",
            "[flaml.automl.logger: 10-23 13:37:54] {2258} INFO - iteration 105, current learner lgbm\n",
            "[flaml.automl.logger: 10-23 13:39:32] {2442} INFO -  at 923.4s,\testimator lgbm's best error=0.0713,\tbest estimator lgbm's best error=0.0713\n",
            "[flaml.automl.logger: 10-23 13:39:32] {2258} INFO - iteration 106, current learner extra_tree\n",
            "[flaml.automl.logger: 10-23 13:39:40] {2442} INFO -  at 932.0s,\testimator extra_tree's best error=0.1608,\tbest estimator lgbm's best error=0.0713\n",
            "[flaml.automl.logger: 10-23 13:39:40] {2258} INFO - iteration 107, current learner rf\n",
            "[flaml.automl.logger: 10-23 13:39:44] {2442} INFO -  at 935.8s,\testimator rf's best error=0.1634,\tbest estimator lgbm's best error=0.0713\n",
            "[flaml.automl.logger: 10-23 13:39:44] {2258} INFO - iteration 108, current learner extra_tree\n",
            "[flaml.automl.logger: 10-23 13:39:49] {2442} INFO -  at 941.0s,\testimator extra_tree's best error=0.1608,\tbest estimator lgbm's best error=0.0713\n",
            "[flaml.automl.logger: 10-23 13:39:49] {2258} INFO - iteration 109, current learner lrl1\n"
          ]
        },
        {
          "output_type": "stream",
          "name": "stderr",
          "text": [
            "INFO:flaml.tune.searcher.blendsearch:No low-cost partial config given to the search algorithm. For cost-frugal search, consider providing low-cost values for cost-related hps via 'low_cost_partial_config'. More info can be found at https://microsoft.github.io/FLAML/docs/FAQ#about-low_cost_partial_config-in-tune\n"
          ]
        },
        {
          "output_type": "stream",
          "name": "stdout",
          "text": [
            "[flaml.automl.logger: 10-23 13:40:07] {2442} INFO -  at 958.7s,\testimator lrl1's best error=0.4532,\tbest estimator lgbm's best error=0.0713\n",
            "[flaml.automl.logger: 10-23 13:40:07] {2258} INFO - iteration 110, current learner lrl1\n",
            "[flaml.automl.logger: 10-23 13:40:23] {2442} INFO -  at 974.9s,\testimator lrl1's best error=0.4532,\tbest estimator lgbm's best error=0.0713\n",
            "[flaml.automl.logger: 10-23 13:40:23] {2258} INFO - iteration 111, current learner lrl1\n",
            "[flaml.automl.logger: 10-23 13:40:40] {2442} INFO -  at 991.6s,\testimator lrl1's best error=0.4532,\tbest estimator lgbm's best error=0.0713\n",
            "[flaml.automl.logger: 10-23 13:40:40] {2258} INFO - iteration 112, current learner xgb_limitdepth\n",
            "[flaml.automl.logger: 10-23 13:40:54] {2442} INFO -  at 1006.2s,\testimator xgb_limitdepth's best error=0.1486,\tbest estimator lgbm's best error=0.0713\n",
            "[flaml.automl.logger: 10-23 13:40:54] {2258} INFO - iteration 113, current learner extra_tree\n",
            "[flaml.automl.logger: 10-23 13:41:04] {2442} INFO -  at 1015.5s,\testimator extra_tree's best error=0.1608,\tbest estimator lgbm's best error=0.0713\n",
            "[flaml.automl.logger: 10-23 13:41:04] {2258} INFO - iteration 114, current learner lgbm\n",
            "[flaml.automl.logger: 10-23 13:41:18] {2442} INFO -  at 1029.5s,\testimator lgbm's best error=0.0713,\tbest estimator lgbm's best error=0.0713\n",
            "[flaml.automl.logger: 10-23 13:41:18] {2258} INFO - iteration 115, current learner sgd\n",
            "[flaml.automl.logger: 10-23 13:41:19] {2442} INFO -  at 1030.6s,\testimator sgd's best error=0.3978,\tbest estimator lgbm's best error=0.0713\n",
            "[flaml.automl.logger: 10-23 13:41:19] {2258} INFO - iteration 116, current learner sgd\n",
            "[flaml.automl.logger: 10-23 13:41:20] {2442} INFO -  at 1031.6s,\testimator sgd's best error=0.3978,\tbest estimator lgbm's best error=0.0713\n",
            "[flaml.automl.logger: 10-23 13:41:20] {2258} INFO - iteration 117, current learner catboost\n",
            "[flaml.automl.logger: 10-23 13:41:31] {2442} INFO -  at 1042.4s,\testimator catboost's best error=0.1498,\tbest estimator lgbm's best error=0.0713\n",
            "[flaml.automl.logger: 10-23 13:41:31] {2258} INFO - iteration 118, current learner lgbm\n",
            "[flaml.automl.logger: 10-23 13:42:31] {2442} INFO -  at 1102.5s,\testimator lgbm's best error=0.0713,\tbest estimator lgbm's best error=0.0713\n",
            "[flaml.automl.logger: 10-23 13:42:31] {2258} INFO - iteration 119, current learner lgbm\n",
            "[flaml.automl.logger: 10-23 13:46:34] {2442} INFO -  at 1345.4s,\testimator lgbm's best error=0.0713,\tbest estimator lgbm's best error=0.0713\n",
            "[flaml.automl.logger: 10-23 13:46:34] {2258} INFO - iteration 120, current learner sgd\n",
            "[flaml.automl.logger: 10-23 13:46:35] {2442} INFO -  at 1346.4s,\testimator sgd's best error=0.3978,\tbest estimator lgbm's best error=0.0713\n",
            "[flaml.automl.logger: 10-23 13:46:35] {2258} INFO - iteration 121, current learner sgd\n",
            "[flaml.automl.logger: 10-23 13:46:36] {2442} INFO -  at 1347.4s,\testimator sgd's best error=0.3971,\tbest estimator lgbm's best error=0.0713\n",
            "[flaml.automl.logger: 10-23 13:46:36] {2258} INFO - iteration 122, current learner lgbm\n",
            "[flaml.automl.logger: 10-23 13:46:42] {2442} INFO -  at 1354.3s,\testimator lgbm's best error=0.0713,\tbest estimator lgbm's best error=0.0713\n",
            "[flaml.automl.logger: 10-23 13:46:42] {2258} INFO - iteration 123, current learner extra_tree\n",
            "[flaml.automl.logger: 10-23 13:46:50] {2442} INFO -  at 1361.9s,\testimator extra_tree's best error=0.1598,\tbest estimator lgbm's best error=0.0713\n",
            "[flaml.automl.logger: 10-23 13:46:50] {2258} INFO - iteration 124, current learner xgb_limitdepth\n",
            "[flaml.automl.logger: 10-23 13:46:54] {2442} INFO -  at 1365.4s,\testimator xgb_limitdepth's best error=0.1486,\tbest estimator lgbm's best error=0.0713\n",
            "[flaml.automl.logger: 10-23 13:46:54] {2258} INFO - iteration 125, current learner sgd\n",
            "[flaml.automl.logger: 10-23 13:46:55] {2442} INFO -  at 1366.4s,\testimator sgd's best error=0.3971,\tbest estimator lgbm's best error=0.0713\n",
            "[flaml.automl.logger: 10-23 13:46:55] {2258} INFO - iteration 126, current learner extra_tree\n",
            "[flaml.automl.logger: 10-23 13:47:06] {2442} INFO -  at 1378.2s,\testimator extra_tree's best error=0.1598,\tbest estimator lgbm's best error=0.0713\n",
            "[flaml.automl.logger: 10-23 13:47:06] {2258} INFO - iteration 127, current learner lgbm\n",
            "[flaml.automl.logger: 10-23 13:49:07] {2442} INFO -  at 1498.7s,\testimator lgbm's best error=0.0705,\tbest estimator lgbm's best error=0.0705\n",
            "[flaml.automl.logger: 10-23 13:49:07] {2258} INFO - iteration 128, current learner lgbm\n",
            "[flaml.automl.logger: 10-23 13:49:44] {2442} INFO -  at 1536.2s,\testimator lgbm's best error=0.0705,\tbest estimator lgbm's best error=0.0705\n",
            "[flaml.automl.logger: 10-23 13:49:44] {2258} INFO - iteration 129, current learner lgbm\n",
            "[flaml.automl.logger: 10-23 13:56:21] {2442} INFO -  at 1932.3s,\testimator lgbm's best error=0.0705,\tbest estimator lgbm's best error=0.0705\n",
            "[flaml.automl.logger: 10-23 13:56:21] {2258} INFO - iteration 130, current learner lgbm\n",
            "[flaml.automl.logger: 10-23 13:56:36] {2442} INFO -  at 1947.9s,\testimator lgbm's best error=0.0705,\tbest estimator lgbm's best error=0.0705\n",
            "[flaml.automl.logger: 10-23 13:56:36] {2258} INFO - iteration 131, current learner lgbm\n",
            "[flaml.automl.logger: 10-23 13:56:48] {2442} INFO -  at 1960.0s,\testimator lgbm's best error=0.0705,\tbest estimator lgbm's best error=0.0705\n",
            "[flaml.automl.logger: 10-23 13:56:48] {2258} INFO - iteration 132, current learner sgd\n",
            "[flaml.automl.logger: 10-23 13:56:50] {2442} INFO -  at 1962.0s,\testimator sgd's best error=0.3971,\tbest estimator lgbm's best error=0.0705\n",
            "[flaml.automl.logger: 10-23 13:56:50] {2258} INFO - iteration 133, current learner rf\n",
            "[flaml.automl.logger: 10-23 13:56:53] {2442} INFO -  at 1965.2s,\testimator rf's best error=0.1634,\tbest estimator lgbm's best error=0.0705\n",
            "[flaml.automl.logger: 10-23 13:56:53] {2258} INFO - iteration 134, current learner rf\n",
            "[flaml.automl.logger: 10-23 13:57:03] {2442} INFO -  at 1974.4s,\testimator rf's best error=0.1569,\tbest estimator lgbm's best error=0.0705\n",
            "[flaml.automl.logger: 10-23 13:57:03] {2258} INFO - iteration 135, current learner extra_tree\n",
            "[flaml.automl.logger: 10-23 13:57:08] {2442} INFO -  at 1979.7s,\testimator extra_tree's best error=0.1593,\tbest estimator lgbm's best error=0.0705\n",
            "[flaml.automl.logger: 10-23 13:57:08] {2258} INFO - iteration 136, current learner lgbm\n",
            "[flaml.automl.logger: 10-23 14:09:16] {2442} INFO -  at 2707.9s,\testimator lgbm's best error=0.0705,\tbest estimator lgbm's best error=0.0705\n",
            "[flaml.automl.logger: 10-23 14:09:16] {2258} INFO - iteration 137, current learner rf\n",
            "[flaml.automl.logger: 10-23 14:09:33] {2442} INFO -  at 2724.9s,\testimator rf's best error=0.1539,\tbest estimator lgbm's best error=0.0705\n",
            "[flaml.automl.logger: 10-23 14:09:33] {2258} INFO - iteration 138, current learner rf\n",
            "[flaml.automl.logger: 10-23 14:09:42] {2442} INFO -  at 2734.1s,\testimator rf's best error=0.1539,\tbest estimator lgbm's best error=0.0705\n",
            "[flaml.automl.logger: 10-23 14:09:42] {2258} INFO - iteration 139, current learner catboost\n",
            "[flaml.automl.logger: 10-23 14:09:47] {2442} INFO -  at 2739.3s,\testimator catboost's best error=0.1498,\tbest estimator lgbm's best error=0.0705\n",
            "[flaml.automl.logger: 10-23 14:09:47] {2258} INFO - iteration 140, current learner rf\n",
            "[flaml.automl.logger: 10-23 14:10:11] {2442} INFO -  at 2762.6s,\testimator rf's best error=0.1532,\tbest estimator lgbm's best error=0.0705\n",
            "[flaml.automl.logger: 10-23 14:10:11] {2258} INFO - iteration 141, current learner lgbm\n",
            "[flaml.automl.logger: 10-23 14:14:17] {2442} INFO -  at 3009.0s,\testimator lgbm's best error=0.0705,\tbest estimator lgbm's best error=0.0705\n",
            "[flaml.automl.logger: 10-23 14:14:17] {2258} INFO - iteration 142, current learner xgb_limitdepth\n",
            "[flaml.automl.logger: 10-23 14:15:19] {2442} INFO -  at 3070.8s,\testimator xgb_limitdepth's best error=0.1486,\tbest estimator lgbm's best error=0.0705\n",
            "[flaml.automl.logger: 10-23 14:15:19] {2258} INFO - iteration 143, current learner lgbm\n",
            "[flaml.automl.logger: 10-23 14:16:06] {2442} INFO -  at 3117.6s,\testimator lgbm's best error=0.0705,\tbest estimator lgbm's best error=0.0705\n",
            "[flaml.automl.logger: 10-23 14:16:06] {2258} INFO - iteration 144, current learner sgd\n",
            "[flaml.automl.logger: 10-23 14:16:07] {2442} INFO -  at 3118.8s,\testimator sgd's best error=0.3971,\tbest estimator lgbm's best error=0.0705\n",
            "[flaml.automl.logger: 10-23 14:16:07] {2258} INFO - iteration 145, current learner lgbm\n",
            "[flaml.automl.logger: 10-23 14:16:22] {2442} INFO -  at 3133.8s,\testimator lgbm's best error=0.0705,\tbest estimator lgbm's best error=0.0705\n",
            "[flaml.automl.logger: 10-23 14:16:22] {2258} INFO - iteration 146, current learner sgd\n",
            "[flaml.automl.logger: 10-23 14:16:23] {2442} INFO -  at 3134.7s,\testimator sgd's best error=0.3971,\tbest estimator lgbm's best error=0.0705\n",
            "[flaml.automl.logger: 10-23 14:16:23] {2258} INFO - iteration 147, current learner extra_tree\n",
            "[flaml.automl.logger: 10-23 14:16:27] {2442} INFO -  at 3138.7s,\testimator extra_tree's best error=0.1593,\tbest estimator lgbm's best error=0.0705\n",
            "[flaml.automl.logger: 10-23 14:16:27] {2258} INFO - iteration 148, current learner rf\n",
            "[flaml.automl.logger: 10-23 14:16:41] {2442} INFO -  at 3152.9s,\testimator rf's best error=0.1532,\tbest estimator lgbm's best error=0.0705\n",
            "[flaml.automl.logger: 10-23 14:16:41] {2258} INFO - iteration 149, current learner lgbm\n",
            "[flaml.automl.logger: 10-23 14:28:00] {2442} INFO -  at 3831.5s,\testimator lgbm's best error=0.0705,\tbest estimator lgbm's best error=0.0705\n",
            "[flaml.automl.logger: 10-23 14:28:00] {2258} INFO - iteration 150, current learner lgbm\n",
            "[flaml.automl.logger: 10-23 14:28:09] {2442} INFO -  at 3840.5s,\testimator lgbm's best error=0.0705,\tbest estimator lgbm's best error=0.0705\n",
            "[flaml.automl.logger: 10-23 14:28:09] {2258} INFO - iteration 151, current learner lgbm\n",
            "[flaml.automl.logger: 10-23 14:46:29] {2442} INFO -  at 4941.2s,\testimator lgbm's best error=0.0705,\tbest estimator lgbm's best error=0.0705\n",
            "[flaml.automl.logger: 10-23 14:46:29] {2258} INFO - iteration 152, current learner lgbm\n",
            "[flaml.automl.logger: 10-23 14:46:40] {2442} INFO -  at 4951.5s,\testimator lgbm's best error=0.0705,\tbest estimator lgbm's best error=0.0705\n",
            "[flaml.automl.logger: 10-23 14:46:40] {2258} INFO - iteration 153, current learner lgbm\n",
            "[flaml.automl.logger: 10-23 15:05:52] {2442} INFO -  at 6103.4s,\testimator lgbm's best error=0.0705,\tbest estimator lgbm's best error=0.0705\n",
            "[flaml.automl.logger: 10-23 15:06:06] {2685} INFO - retrain lgbm for 14.6s\n",
            "[flaml.automl.logger: 10-23 15:06:06] {2688} INFO - retrained model: LGBMClassifier(colsample_bytree=0.01, learning_rate=0.026713693590724185,\n",
            "               max_bin=1023, min_child_samples=6, n_estimators=1, n_jobs=-1,\n",
            "               num_leaves=797, reg_alpha=0.0009765625,\n",
            "               reg_lambda=0.006179055784259836, verbose=-1)\n",
            "[flaml.automl.logger: 10-23 15:06:06] {1985} INFO - fit succeeded\n",
            "[flaml.automl.logger: 10-23 15:06:06] {1986} INFO - Time taken to find the best model: 1498.659439086914\n"
          ]
        }
      ],
      "source": [
        "from flaml import AutoML\n",
        "automl = AutoML()\n",
        "\n",
        "parametrs = {\n",
        "     'time_budget': 6000,\n",
        "     'metric': 'roc_auc',\n",
        "     'log_file_name': 'log.txt',\n",
        "     'log_training_metric': True,\n",
        "     'task': 'classification'\n",
        "}\n",
        "\n",
        "automl.fit(X_train=X_train, y_train=y_train, **parametrs)"
      ]
    },
    {
      "cell_type": "code",
      "execution_count": null,
      "metadata": {
        "colab": {
          "base_uri": "https://localhost:8080/",
          "height": 35
        },
        "id": "6O8UFVy7plle",
        "outputId": "81c4572f-a7c6-4748-9e63-070128ca4583"
      },
      "outputs": [
        {
          "output_type": "execute_result",
          "data": {
            "text/plain": [
              "'lgbm'"
            ],
            "application/vnd.google.colaboratory.intrinsic+json": {
              "type": "string"
            }
          },
          "metadata": {},
          "execution_count": 93
        }
      ],
      "source": [
        "automl.best_estimator"
      ]
    },
    {
      "cell_type": "code",
      "execution_count": null,
      "metadata": {
        "colab": {
          "base_uri": "https://localhost:8080/"
        },
        "id": "pfvIc8fMrzDr",
        "outputId": "a762eba7-9af4-495d-f9c9-1ef6f33dfb83"
      },
      "outputs": [
        {
          "output_type": "execute_result",
          "data": {
            "text/plain": [
              "0.9294828578698882"
            ]
          },
          "metadata": {},
          "execution_count": 94
        }
      ],
      "source": [
        "1 - automl.best_loss"
      ]
    },
    {
      "cell_type": "code",
      "execution_count": null,
      "metadata": {
        "colab": {
          "base_uri": "https://localhost:8080/"
        },
        "id": "ZUL4d77Vr8Mx",
        "outputId": "40c081f5-b9e2-408d-fe81-e099ff80e585"
      },
      "outputs": [
        {
          "output_type": "execute_result",
          "data": {
            "text/plain": [
              "{'n_estimators': 531,\n",
              " 'num_leaves': 797,\n",
              " 'min_child_samples': 6,\n",
              " 'learning_rate': 0.026713693590724185,\n",
              " 'log_max_bin': 10,\n",
              " 'colsample_bytree': 0.01,\n",
              " 'reg_alpha': 0.0009765625,\n",
              " 'reg_lambda': 0.006179055784259836}"
            ]
          },
          "metadata": {},
          "execution_count": 95
        }
      ],
      "source": [
        "params = automl.best_config\n",
        "params"
      ]
    },
    {
      "cell_type": "code",
      "execution_count": null,
      "metadata": {
        "colab": {
          "base_uri": "https://localhost:8080/"
        },
        "id": "FkcGAM7chlYJ",
        "outputId": "17f29294-ab57-47c0-d4d1-6bfe3e9bccc8"
      },
      "outputs": [
        {
          "output_type": "execute_result",
          "data": {
            "text/plain": [
              "['best_lgbm_model.pkl']"
            ]
          },
          "metadata": {},
          "execution_count": 96
        }
      ],
      "source": [
        "import joblib\n",
        "\n",
        "best_model = automl.model.estimator\n",
        "joblib.dump(best_model, 'best_lgbm_model.pkl')"
      ]
    }
  ]
}