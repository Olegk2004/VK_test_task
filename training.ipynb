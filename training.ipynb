{
  "nbformat": 4,
  "nbformat_minor": 0,
  "metadata": {
    "colab": {
      "provenance": []
    },
    "kernelspec": {
      "name": "python3",
      "display_name": "Python 3"
    },
    "language_info": {
      "name": "python"
    }
  },
  "cells": [
    {
      "cell_type": "code",
      "execution_count": 2,
      "metadata": {
        "colab": {
          "base_uri": "https://localhost:8080/"
        },
        "id": "yn1YBIT7pQfT",
        "outputId": "cacedfe3-0bbc-4140-9d6c-34a49deac34d"
      },
      "outputs": [
        {
          "output_type": "stream",
          "name": "stdout",
          "text": [
            "\u001b[?25l   \u001b[90m━━━━━━━━━━━━━━━━━━━━━━━━━━━━━━━━━━━━━━━━\u001b[0m \u001b[32m0.0/313.3 kB\u001b[0m \u001b[31m?\u001b[0m eta \u001b[36m-:--:--\u001b[0m\r\u001b[2K   \u001b[91m━━━━━━━━━━━━━━━━━━━━━━━━━━━━━━\u001b[0m\u001b[90m╺\u001b[0m\u001b[90m━━━━━━━━━\u001b[0m \u001b[32m235.5/313.3 kB\u001b[0m \u001b[31m6.9 MB/s\u001b[0m eta \u001b[36m0:00:01\u001b[0m\r\u001b[2K   \u001b[90m━━━━━━━━━━━━━━━━━━━━━━━━━━━━━━━━━━━━━━━━\u001b[0m \u001b[32m313.3/313.3 kB\u001b[0m \u001b[31m6.0 MB/s\u001b[0m eta \u001b[36m0:00:00\u001b[0m\n",
            "\u001b[?25h"
          ]
        }
      ],
      "source": [
        "!pip install -q flaml"
      ]
    },
    {
      "cell_type": "code",
      "source": [
        "import pandas as pd\n",
        "import numpy as np\n",
        "\n",
        "X_train = pd.read_csv('/content/X_train.csv')\n",
        "X_test = pd.read_csv('/content/X_test.csv')\n",
        "y_train = pd.read_csv('/content/y_train.csv')\n",
        "y_test = pd.read_csv('/content/y_test.csv')"
      ],
      "metadata": {
        "id": "SfLQidiDI4Te"
      },
      "execution_count": 22,
      "outputs": []
    },
    {
      "cell_type": "code",
      "execution_count": 11,
      "metadata": {
        "colab": {
          "base_uri": "https://localhost:8080/"
        },
        "id": "tWn38BAwoBrc",
        "outputId": "32c407d5-a303-4ade-a909-abe5c75d3388"
      },
      "outputs": [
        {
          "output_type": "stream",
          "name": "stdout",
          "text": [
            "[flaml.automl.logger: 10-23 21:06:21] {1728} INFO - task = classification\n",
            "[flaml.automl.logger: 10-23 21:06:21] {1739} INFO - Evaluation method: cv\n",
            "[flaml.automl.logger: 10-23 21:06:21] {1838} INFO - Minimizing error metric: 1-roc_auc\n",
            "[flaml.automl.logger: 10-23 21:06:21] {1955} INFO - List of ML learners in AutoML Run: ['lgbm', 'rf', 'xgboost', 'extra_tree', 'xgb_limitdepth', 'sgd', 'lrl1']\n",
            "[flaml.automl.logger: 10-23 21:06:21] {2258} INFO - iteration 0, current learner lgbm\n",
            "[flaml.automl.logger: 10-23 21:06:26] {2393} INFO - Estimated sufficient time budget=49083s. Estimated necessary time budget=1136s.\n",
            "[flaml.automl.logger: 10-23 21:06:26] {2442} INFO -  at 6.2s,\testimator lgbm's best error=0.1902,\tbest estimator lgbm's best error=0.1902\n",
            "[flaml.automl.logger: 10-23 21:06:26] {2258} INFO - iteration 1, current learner lgbm\n",
            "[flaml.automl.logger: 10-23 21:06:28] {2442} INFO -  at 8.0s,\testimator lgbm's best error=0.1902,\tbest estimator lgbm's best error=0.1902\n",
            "[flaml.automl.logger: 10-23 21:06:28] {2258} INFO - iteration 2, current learner lgbm\n",
            "[flaml.automl.logger: 10-23 21:06:30] {2442} INFO -  at 9.7s,\testimator lgbm's best error=0.1766,\tbest estimator lgbm's best error=0.1766\n",
            "[flaml.automl.logger: 10-23 21:06:30] {2258} INFO - iteration 3, current learner lgbm\n",
            "[flaml.automl.logger: 10-23 21:06:32] {2442} INFO -  at 11.8s,\testimator lgbm's best error=0.1435,\tbest estimator lgbm's best error=0.1435\n",
            "[flaml.automl.logger: 10-23 21:06:32] {2258} INFO - iteration 4, current learner lgbm\n",
            "[flaml.automl.logger: 10-23 21:06:35] {2442} INFO -  at 14.8s,\testimator lgbm's best error=0.1435,\tbest estimator lgbm's best error=0.1435\n",
            "[flaml.automl.logger: 10-23 21:06:35] {2258} INFO - iteration 5, current learner lgbm\n",
            "[flaml.automl.logger: 10-23 21:06:40] {2442} INFO -  at 19.5s,\testimator lgbm's best error=0.1403,\tbest estimator lgbm's best error=0.1403\n",
            "[flaml.automl.logger: 10-23 21:06:40] {2258} INFO - iteration 6, current learner sgd\n"
          ]
        },
        {
          "output_type": "stream",
          "name": "stderr",
          "text": [
            "INFO:flaml.tune.searcher.blendsearch:No low-cost partial config given to the search algorithm. For cost-frugal search, consider providing low-cost values for cost-related hps via 'low_cost_partial_config'. More info can be found at https://microsoft.github.io/FLAML/docs/FAQ#about-low_cost_partial_config-in-tune\n"
          ]
        },
        {
          "output_type": "stream",
          "name": "stdout",
          "text": [
            "[flaml.automl.logger: 10-23 21:06:41] {2442} INFO -  at 20.7s,\testimator sgd's best error=0.4112,\tbest estimator lgbm's best error=0.1403\n",
            "[flaml.automl.logger: 10-23 21:06:41] {2258} INFO - iteration 7, current learner lgbm\n",
            "[flaml.automl.logger: 10-23 21:06:43] {2442} INFO -  at 22.9s,\testimator lgbm's best error=0.1403,\tbest estimator lgbm's best error=0.1403\n",
            "[flaml.automl.logger: 10-23 21:06:43] {2258} INFO - iteration 8, current learner sgd\n",
            "[flaml.automl.logger: 10-23 21:06:45] {2442} INFO -  at 25.1s,\testimator sgd's best error=0.4112,\tbest estimator lgbm's best error=0.1403\n",
            "[flaml.automl.logger: 10-23 21:06:45] {2258} INFO - iteration 9, current learner lgbm\n",
            "[flaml.automl.logger: 10-23 21:06:47] {2442} INFO -  at 27.1s,\testimator lgbm's best error=0.1403,\tbest estimator lgbm's best error=0.1403\n",
            "[flaml.automl.logger: 10-23 21:06:47] {2258} INFO - iteration 10, current learner sgd\n",
            "[flaml.automl.logger: 10-23 21:06:50] {2442} INFO -  at 29.9s,\testimator sgd's best error=0.4112,\tbest estimator lgbm's best error=0.1403\n",
            "[flaml.automl.logger: 10-23 21:06:50] {2258} INFO - iteration 11, current learner sgd\n",
            "[flaml.automl.logger: 10-23 21:06:53] {2442} INFO -  at 32.6s,\testimator sgd's best error=0.4112,\tbest estimator lgbm's best error=0.1403\n",
            "[flaml.automl.logger: 10-23 21:06:53] {2258} INFO - iteration 12, current learner lgbm\n",
            "[flaml.automl.logger: 10-23 21:06:56] {2442} INFO -  at 35.7s,\testimator lgbm's best error=0.1320,\tbest estimator lgbm's best error=0.1320\n",
            "[flaml.automl.logger: 10-23 21:06:56] {2258} INFO - iteration 13, current learner sgd\n",
            "[flaml.automl.logger: 10-23 21:06:57] {2442} INFO -  at 37.0s,\testimator sgd's best error=0.4112,\tbest estimator lgbm's best error=0.1320\n",
            "[flaml.automl.logger: 10-23 21:06:57] {2258} INFO - iteration 14, current learner lgbm\n",
            "[flaml.automl.logger: 10-23 21:06:59] {2442} INFO -  at 39.2s,\testimator lgbm's best error=0.1320,\tbest estimator lgbm's best error=0.1320\n",
            "[flaml.automl.logger: 10-23 21:06:59] {2258} INFO - iteration 15, current learner sgd\n",
            "[flaml.automl.logger: 10-23 21:07:03] {2442} INFO -  at 42.7s,\testimator sgd's best error=0.4112,\tbest estimator lgbm's best error=0.1320\n",
            "[flaml.automl.logger: 10-23 21:07:03] {2258} INFO - iteration 16, current learner lgbm\n",
            "[flaml.automl.logger: 10-23 21:07:13] {2442} INFO -  at 52.7s,\testimator lgbm's best error=0.1268,\tbest estimator lgbm's best error=0.1268\n",
            "[flaml.automl.logger: 10-23 21:07:13] {2258} INFO - iteration 17, current learner xgboost\n",
            "[flaml.automl.logger: 10-23 21:07:15] {2442} INFO -  at 55.3s,\testimator xgboost's best error=0.1926,\tbest estimator lgbm's best error=0.1268\n",
            "[flaml.automl.logger: 10-23 21:07:15] {2258} INFO - iteration 18, current learner xgboost\n",
            "[flaml.automl.logger: 10-23 21:07:18] {2442} INFO -  at 58.3s,\testimator xgboost's best error=0.1926,\tbest estimator lgbm's best error=0.1268\n",
            "[flaml.automl.logger: 10-23 21:07:18] {2258} INFO - iteration 19, current learner xgboost\n",
            "[flaml.automl.logger: 10-23 21:07:20] {2442} INFO -  at 59.9s,\testimator xgboost's best error=0.1771,\tbest estimator lgbm's best error=0.1268\n",
            "[flaml.automl.logger: 10-23 21:07:20] {2258} INFO - iteration 20, current learner extra_tree\n",
            "[flaml.automl.logger: 10-23 21:07:21] {2442} INFO -  at 60.7s,\testimator extra_tree's best error=0.3009,\tbest estimator lgbm's best error=0.1268\n",
            "[flaml.automl.logger: 10-23 21:07:21] {2258} INFO - iteration 21, current learner extra_tree\n",
            "[flaml.automl.logger: 10-23 21:07:22] {2442} INFO -  at 61.6s,\testimator extra_tree's best error=0.2042,\tbest estimator lgbm's best error=0.1268\n",
            "[flaml.automl.logger: 10-23 21:07:22] {2258} INFO - iteration 22, current learner extra_tree\n",
            "[flaml.automl.logger: 10-23 21:07:22] {2442} INFO -  at 62.4s,\testimator extra_tree's best error=0.2042,\tbest estimator lgbm's best error=0.1268\n",
            "[flaml.automl.logger: 10-23 21:07:22] {2258} INFO - iteration 23, current learner xgboost\n",
            "[flaml.automl.logger: 10-23 21:07:24] {2442} INFO -  at 64.1s,\testimator xgboost's best error=0.1626,\tbest estimator lgbm's best error=0.1268\n",
            "[flaml.automl.logger: 10-23 21:07:24] {2258} INFO - iteration 24, current learner extra_tree\n",
            "[flaml.automl.logger: 10-23 21:07:25] {2442} INFO -  at 65.3s,\testimator extra_tree's best error=0.2042,\tbest estimator lgbm's best error=0.1268\n",
            "[flaml.automl.logger: 10-23 21:07:25] {2258} INFO - iteration 25, current learner sgd\n",
            "[flaml.automl.logger: 10-23 21:07:27] {2442} INFO -  at 66.6s,\testimator sgd's best error=0.4112,\tbest estimator lgbm's best error=0.1268\n",
            "[flaml.automl.logger: 10-23 21:07:27] {2258} INFO - iteration 26, current learner xgboost\n",
            "[flaml.automl.logger: 10-23 21:07:30] {2442} INFO -  at 69.7s,\testimator xgboost's best error=0.1610,\tbest estimator lgbm's best error=0.1268\n",
            "[flaml.automl.logger: 10-23 21:07:30] {2258} INFO - iteration 27, current learner extra_tree\n",
            "[flaml.automl.logger: 10-23 21:07:31] {2442} INFO -  at 71.2s,\testimator extra_tree's best error=0.1796,\tbest estimator lgbm's best error=0.1268\n",
            "[flaml.automl.logger: 10-23 21:07:31] {2258} INFO - iteration 28, current learner rf\n",
            "[flaml.automl.logger: 10-23 21:07:33] {2442} INFO -  at 73.2s,\testimator rf's best error=0.2003,\tbest estimator lgbm's best error=0.1268\n",
            "[flaml.automl.logger: 10-23 21:07:33] {2258} INFO - iteration 29, current learner extra_tree\n",
            "[flaml.automl.logger: 10-23 21:07:35] {2442} INFO -  at 74.8s,\testimator extra_tree's best error=0.1796,\tbest estimator lgbm's best error=0.1268\n",
            "[flaml.automl.logger: 10-23 21:07:35] {2258} INFO - iteration 30, current learner extra_tree\n",
            "[flaml.automl.logger: 10-23 21:07:36] {2442} INFO -  at 75.9s,\testimator extra_tree's best error=0.1724,\tbest estimator lgbm's best error=0.1268\n",
            "[flaml.automl.logger: 10-23 21:07:36] {2258} INFO - iteration 31, current learner lgbm\n",
            "[flaml.automl.logger: 10-23 21:07:51] {2442} INFO -  at 91.1s,\testimator lgbm's best error=0.1268,\tbest estimator lgbm's best error=0.1268\n",
            "[flaml.automl.logger: 10-23 21:07:51] {2258} INFO - iteration 32, current learner lgbm\n",
            "[flaml.automl.logger: 10-23 21:08:02] {2442} INFO -  at 102.0s,\testimator lgbm's best error=0.1268,\tbest estimator lgbm's best error=0.1268\n",
            "[flaml.automl.logger: 10-23 21:08:02] {2258} INFO - iteration 33, current learner rf\n",
            "[flaml.automl.logger: 10-23 21:08:04] {2442} INFO -  at 104.0s,\testimator rf's best error=0.1936,\tbest estimator lgbm's best error=0.1268\n",
            "[flaml.automl.logger: 10-23 21:08:04] {2258} INFO - iteration 34, current learner sgd\n",
            "[flaml.automl.logger: 10-23 21:08:05] {2442} INFO -  at 105.3s,\testimator sgd's best error=0.4112,\tbest estimator lgbm's best error=0.1268\n",
            "[flaml.automl.logger: 10-23 21:08:05] {2258} INFO - iteration 35, current learner lgbm\n",
            "[flaml.automl.logger: 10-23 21:08:18] {2442} INFO -  at 117.8s,\testimator lgbm's best error=0.1247,\tbest estimator lgbm's best error=0.1247\n",
            "[flaml.automl.logger: 10-23 21:08:18] {2258} INFO - iteration 36, current learner xgboost\n",
            "[flaml.automl.logger: 10-23 21:08:19] {2442} INFO -  at 119.4s,\testimator xgboost's best error=0.1610,\tbest estimator lgbm's best error=0.1247\n",
            "[flaml.automl.logger: 10-23 21:08:19] {2258} INFO - iteration 37, current learner sgd\n",
            "[flaml.automl.logger: 10-23 21:08:22] {2442} INFO -  at 121.5s,\testimator sgd's best error=0.4067,\tbest estimator lgbm's best error=0.1247\n",
            "[flaml.automl.logger: 10-23 21:08:22] {2258} INFO - iteration 38, current learner rf\n",
            "[flaml.automl.logger: 10-23 21:08:24] {2442} INFO -  at 124.1s,\testimator rf's best error=0.1936,\tbest estimator lgbm's best error=0.1247\n",
            "[flaml.automl.logger: 10-23 21:08:24] {2258} INFO - iteration 39, current learner extra_tree\n",
            "[flaml.automl.logger: 10-23 21:08:27] {2442} INFO -  at 126.5s,\testimator extra_tree's best error=0.1589,\tbest estimator lgbm's best error=0.1247\n",
            "[flaml.automl.logger: 10-23 21:08:27] {2258} INFO - iteration 40, current learner xgboost\n",
            "[flaml.automl.logger: 10-23 21:08:29] {2442} INFO -  at 128.7s,\testimator xgboost's best error=0.1372,\tbest estimator lgbm's best error=0.1247\n",
            "[flaml.automl.logger: 10-23 21:08:29] {2258} INFO - iteration 41, current learner xgboost\n",
            "[flaml.automl.logger: 10-23 21:08:31] {2442} INFO -  at 131.1s,\testimator xgboost's best error=0.1357,\tbest estimator lgbm's best error=0.1247\n",
            "[flaml.automl.logger: 10-23 21:08:31] {2258} INFO - iteration 42, current learner extra_tree\n",
            "[flaml.automl.logger: 10-23 21:08:32] {2442} INFO -  at 132.2s,\testimator extra_tree's best error=0.1589,\tbest estimator lgbm's best error=0.1247\n",
            "[flaml.automl.logger: 10-23 21:08:32] {2258} INFO - iteration 43, current learner lgbm\n",
            "[flaml.automl.logger: 10-23 21:08:44] {2442} INFO -  at 143.9s,\testimator lgbm's best error=0.1247,\tbest estimator lgbm's best error=0.1247\n",
            "[flaml.automl.logger: 10-23 21:08:44] {2258} INFO - iteration 44, current learner extra_tree\n",
            "[flaml.automl.logger: 10-23 21:08:46] {2442} INFO -  at 145.7s,\testimator extra_tree's best error=0.1589,\tbest estimator lgbm's best error=0.1247\n",
            "[flaml.automl.logger: 10-23 21:08:46] {2258} INFO - iteration 45, current learner extra_tree\n",
            "[flaml.automl.logger: 10-23 21:08:49] {2442} INFO -  at 148.9s,\testimator extra_tree's best error=0.1511,\tbest estimator lgbm's best error=0.1247\n",
            "[flaml.automl.logger: 10-23 21:08:49] {2258} INFO - iteration 46, current learner extra_tree\n",
            "[flaml.automl.logger: 10-23 21:08:51] {2442} INFO -  at 151.1s,\testimator extra_tree's best error=0.1511,\tbest estimator lgbm's best error=0.1247\n",
            "[flaml.automl.logger: 10-23 21:08:51] {2258} INFO - iteration 47, current learner lgbm\n",
            "[flaml.automl.logger: 10-23 21:09:08] {2442} INFO -  at 168.4s,\testimator lgbm's best error=0.1247,\tbest estimator lgbm's best error=0.1247\n",
            "[flaml.automl.logger: 10-23 21:09:08] {2258} INFO - iteration 48, current learner extra_tree\n",
            "[flaml.automl.logger: 10-23 21:09:13] {2442} INFO -  at 172.6s,\testimator extra_tree's best error=0.1436,\tbest estimator lgbm's best error=0.1247\n",
            "[flaml.automl.logger: 10-23 21:09:13] {2258} INFO - iteration 49, current learner lgbm\n",
            "[flaml.automl.logger: 10-23 21:09:26] {2442} INFO -  at 186.0s,\testimator lgbm's best error=0.1247,\tbest estimator lgbm's best error=0.1247\n",
            "[flaml.automl.logger: 10-23 21:09:26] {2258} INFO - iteration 50, current learner xgboost\n",
            "[flaml.automl.logger: 10-23 21:09:30] {2442} INFO -  at 189.7s,\testimator xgboost's best error=0.1357,\tbest estimator lgbm's best error=0.1247\n",
            "[flaml.automl.logger: 10-23 21:09:30] {2258} INFO - iteration 51, current learner extra_tree\n",
            "[flaml.automl.logger: 10-23 21:09:33] {2442} INFO -  at 192.6s,\testimator extra_tree's best error=0.1436,\tbest estimator lgbm's best error=0.1247\n",
            "[flaml.automl.logger: 10-23 21:09:33] {2258} INFO - iteration 52, current learner lgbm\n",
            "[flaml.automl.logger: 10-23 21:09:48] {2442} INFO -  at 208.3s,\testimator lgbm's best error=0.1247,\tbest estimator lgbm's best error=0.1247\n",
            "[flaml.automl.logger: 10-23 21:09:48] {2258} INFO - iteration 53, current learner rf\n",
            "[flaml.automl.logger: 10-23 21:09:52] {2442} INFO -  at 211.6s,\testimator rf's best error=0.1755,\tbest estimator lgbm's best error=0.1247\n",
            "[flaml.automl.logger: 10-23 21:09:52] {2258} INFO - iteration 54, current learner lgbm\n",
            "[flaml.automl.logger: 10-23 21:10:13] {2442} INFO -  at 233.5s,\testimator lgbm's best error=0.1247,\tbest estimator lgbm's best error=0.1247\n",
            "[flaml.automl.logger: 10-23 21:10:13] {2258} INFO - iteration 55, current learner lgbm\n",
            "[flaml.automl.logger: 10-23 21:10:20] {2442} INFO -  at 239.7s,\testimator lgbm's best error=0.1247,\tbest estimator lgbm's best error=0.1247\n",
            "[flaml.automl.logger: 10-23 21:10:20] {2258} INFO - iteration 56, current learner xgboost\n",
            "[flaml.automl.logger: 10-23 21:10:25] {2442} INFO -  at 244.8s,\testimator xgboost's best error=0.1357,\tbest estimator lgbm's best error=0.1247\n",
            "[flaml.automl.logger: 10-23 21:10:25] {2258} INFO - iteration 57, current learner rf\n",
            "[flaml.automl.logger: 10-23 21:10:27] {2442} INFO -  at 247.0s,\testimator rf's best error=0.1755,\tbest estimator lgbm's best error=0.1247\n",
            "[flaml.automl.logger: 10-23 21:10:27] {2258} INFO - iteration 58, current learner rf\n",
            "[flaml.automl.logger: 10-23 21:10:32] {2442} INFO -  at 251.7s,\testimator rf's best error=0.1734,\tbest estimator lgbm's best error=0.1247\n",
            "[flaml.automl.logger: 10-23 21:10:32] {2258} INFO - iteration 59, current learner extra_tree\n",
            "[flaml.automl.logger: 10-23 21:10:42] {2442} INFO -  at 262.3s,\testimator extra_tree's best error=0.1400,\tbest estimator lgbm's best error=0.1247\n",
            "[flaml.automl.logger: 10-23 21:10:42] {2258} INFO - iteration 60, current learner lgbm\n",
            "[flaml.automl.logger: 10-23 21:11:12] {2442} INFO -  at 291.6s,\testimator lgbm's best error=0.1226,\tbest estimator lgbm's best error=0.1226\n",
            "[flaml.automl.logger: 10-23 21:11:12] {2258} INFO - iteration 61, current learner xgboost\n",
            "[flaml.automl.logger: 10-23 21:11:14] {2442} INFO -  at 293.8s,\testimator xgboost's best error=0.1357,\tbest estimator lgbm's best error=0.1226\n",
            "[flaml.automl.logger: 10-23 21:11:14] {2258} INFO - iteration 62, current learner lgbm\n",
            "[flaml.automl.logger: 10-23 21:12:00] {2442} INFO -  at 340.1s,\testimator lgbm's best error=0.1216,\tbest estimator lgbm's best error=0.1216\n",
            "[flaml.automl.logger: 10-23 21:12:00] {2258} INFO - iteration 63, current learner lgbm\n",
            "[flaml.automl.logger: 10-23 21:12:26] {2442} INFO -  at 366.0s,\testimator lgbm's best error=0.1216,\tbest estimator lgbm's best error=0.1216\n",
            "[flaml.automl.logger: 10-23 21:12:26] {2258} INFO - iteration 64, current learner xgboost\n",
            "[flaml.automl.logger: 10-23 21:12:28] {2442} INFO -  at 367.8s,\testimator xgboost's best error=0.1357,\tbest estimator lgbm's best error=0.1216\n",
            "[flaml.automl.logger: 10-23 21:12:28] {2258} INFO - iteration 65, current learner lgbm\n",
            "[flaml.automl.logger: 10-23 21:13:40] {2442} INFO -  at 440.2s,\testimator lgbm's best error=0.1216,\tbest estimator lgbm's best error=0.1216\n",
            "[flaml.automl.logger: 10-23 21:13:40] {2258} INFO - iteration 66, current learner lgbm\n",
            "[flaml.automl.logger: 10-23 21:14:23] {2442} INFO -  at 483.3s,\testimator lgbm's best error=0.1216,\tbest estimator lgbm's best error=0.1216\n",
            "[flaml.automl.logger: 10-23 21:14:23] {2258} INFO - iteration 67, current learner extra_tree\n",
            "[flaml.automl.logger: 10-23 21:14:35] {2442} INFO -  at 495.5s,\testimator extra_tree's best error=0.1377,\tbest estimator lgbm's best error=0.1216\n",
            "[flaml.automl.logger: 10-23 21:14:35] {2258} INFO - iteration 68, current learner rf\n",
            "[flaml.automl.logger: 10-23 21:14:40] {2442} INFO -  at 499.9s,\testimator rf's best error=0.1734,\tbest estimator lgbm's best error=0.1216\n",
            "[flaml.automl.logger: 10-23 21:14:40] {2258} INFO - iteration 69, current learner lgbm\n",
            "[flaml.automl.logger: 10-23 21:15:49] {2442} INFO -  at 568.9s,\testimator lgbm's best error=0.1215,\tbest estimator lgbm's best error=0.1215\n",
            "[flaml.automl.logger: 10-23 21:15:49] {2258} INFO - iteration 70, current learner xgboost\n",
            "[flaml.automl.logger: 10-23 21:15:53] {2442} INFO -  at 573.2s,\testimator xgboost's best error=0.1313,\tbest estimator lgbm's best error=0.1215\n",
            "[flaml.automl.logger: 10-23 21:15:53] {2258} INFO - iteration 71, current learner xgboost\n",
            "[flaml.automl.logger: 10-23 21:15:56] {2442} INFO -  at 575.7s,\testimator xgboost's best error=0.1313,\tbest estimator lgbm's best error=0.1215\n",
            "[flaml.automl.logger: 10-23 21:15:56] {2258} INFO - iteration 72, current learner xgboost\n",
            "[flaml.automl.logger: 10-23 21:16:04] {2442} INFO -  at 583.8s,\testimator xgboost's best error=0.1282,\tbest estimator lgbm's best error=0.1215\n",
            "[flaml.automl.logger: 10-23 21:16:04] {2258} INFO - iteration 73, current learner extra_tree\n",
            "[flaml.automl.logger: 10-23 21:16:14] {2442} INFO -  at 593.9s,\testimator extra_tree's best error=0.1377,\tbest estimator lgbm's best error=0.1215\n",
            "[flaml.automl.logger: 10-23 21:16:14] {2258} INFO - iteration 74, current learner xgboost\n",
            "[flaml.automl.logger: 10-23 21:16:20] {2442} INFO -  at 600.2s,\testimator xgboost's best error=0.1282,\tbest estimator lgbm's best error=0.1215\n",
            "[flaml.automl.logger: 10-23 21:16:20] {2258} INFO - iteration 75, current learner extra_tree\n",
            "[flaml.automl.logger: 10-23 21:16:25] {2442} INFO -  at 605.1s,\testimator extra_tree's best error=0.1377,\tbest estimator lgbm's best error=0.1215\n",
            "[flaml.automl.logger: 10-23 21:16:25] {2258} INFO - iteration 76, current learner lgbm\n",
            "[flaml.automl.logger: 10-23 21:17:14] {2442} INFO -  at 654.0s,\testimator lgbm's best error=0.1215,\tbest estimator lgbm's best error=0.1215\n",
            "[flaml.automl.logger: 10-23 21:17:14] {2258} INFO - iteration 77, current learner lgbm\n",
            "[flaml.automl.logger: 10-23 21:19:20] {2442} INFO -  at 780.4s,\testimator lgbm's best error=0.1215,\tbest estimator lgbm's best error=0.1215\n",
            "[flaml.automl.logger: 10-23 21:19:20] {2258} INFO - iteration 78, current learner xgboost\n",
            "[flaml.automl.logger: 10-23 21:19:31] {2442} INFO -  at 791.3s,\testimator xgboost's best error=0.1282,\tbest estimator lgbm's best error=0.1215\n",
            "[flaml.automl.logger: 10-23 21:19:31] {2258} INFO - iteration 79, current learner xgboost\n",
            "[flaml.automl.logger: 10-23 21:19:34] {2442} INFO -  at 794.4s,\testimator xgboost's best error=0.1282,\tbest estimator lgbm's best error=0.1215\n",
            "[flaml.automl.logger: 10-23 21:19:34] {2258} INFO - iteration 80, current learner lgbm\n",
            "[flaml.automl.logger: 10-23 21:20:01] {2442} INFO -  at 820.6s,\testimator lgbm's best error=0.1215,\tbest estimator lgbm's best error=0.1215\n",
            "[flaml.automl.logger: 10-23 21:20:01] {2258} INFO - iteration 81, current learner extra_tree\n",
            "[flaml.automl.logger: 10-23 21:20:26] {2442} INFO -  at 845.9s,\testimator extra_tree's best error=0.1336,\tbest estimator lgbm's best error=0.1215\n",
            "[flaml.automl.logger: 10-23 21:20:26] {2258} INFO - iteration 82, current learner xgboost\n",
            "[flaml.automl.logger: 10-23 21:20:40] {2442} INFO -  at 860.5s,\testimator xgboost's best error=0.1245,\tbest estimator lgbm's best error=0.1215\n",
            "[flaml.automl.logger: 10-23 21:20:40] {2258} INFO - iteration 83, current learner xgboost\n",
            "[flaml.automl.logger: 10-23 21:20:48] {2442} INFO -  at 868.1s,\testimator xgboost's best error=0.1245,\tbest estimator lgbm's best error=0.1215\n",
            "[flaml.automl.logger: 10-23 21:20:48] {2258} INFO - iteration 84, current learner xgboost\n",
            "[flaml.automl.logger: 10-23 21:21:57] {2442} INFO -  at 937.0s,\testimator xgboost's best error=0.1245,\tbest estimator lgbm's best error=0.1215\n",
            "[flaml.automl.logger: 10-23 21:21:57] {2258} INFO - iteration 85, current learner extra_tree\n",
            "[flaml.automl.logger: 10-23 21:22:32] {2442} INFO -  at 971.8s,\testimator extra_tree's best error=0.1312,\tbest estimator lgbm's best error=0.1215\n",
            "[flaml.automl.logger: 10-23 21:22:32] {2258} INFO - iteration 86, current learner xgboost\n",
            "[flaml.automl.logger: 10-23 21:22:43] {2442} INFO -  at 982.6s,\testimator xgboost's best error=0.1245,\tbest estimator lgbm's best error=0.1215\n",
            "[flaml.automl.logger: 10-23 21:22:43] {2258} INFO - iteration 87, current learner extra_tree\n",
            "[flaml.automl.logger: 10-23 21:23:06] {2442} INFO -  at 1006.1s,\testimator extra_tree's best error=0.1312,\tbest estimator lgbm's best error=0.1215\n",
            "[flaml.automl.logger: 10-23 21:23:06] {2258} INFO - iteration 88, current learner rf\n",
            "[flaml.automl.logger: 10-23 21:23:15] {2442} INFO -  at 1015.5s,\testimator rf's best error=0.1658,\tbest estimator lgbm's best error=0.1215\n",
            "[flaml.automl.logger: 10-23 21:23:15] {2258} INFO - iteration 89, current learner rf\n",
            "[flaml.automl.logger: 10-23 21:23:21] {2442} INFO -  at 1020.6s,\testimator rf's best error=0.1658,\tbest estimator lgbm's best error=0.1215\n",
            "[flaml.automl.logger: 10-23 21:23:21] {2258} INFO - iteration 90, current learner extra_tree\n",
            "[flaml.automl.logger: 10-23 21:24:03] {2442} INFO -  at 1062.8s,\testimator extra_tree's best error=0.1312,\tbest estimator lgbm's best error=0.1215\n",
            "[flaml.automl.logger: 10-23 21:24:03] {2258} INFO - iteration 91, current learner rf\n",
            "[flaml.automl.logger: 10-23 21:24:11] {2442} INFO -  at 1071.0s,\testimator rf's best error=0.1658,\tbest estimator lgbm's best error=0.1215\n",
            "[flaml.automl.logger: 10-23 21:24:11] {2258} INFO - iteration 92, current learner extra_tree\n",
            "[flaml.automl.logger: 10-23 21:24:41] {2442} INFO -  at 1101.5s,\testimator extra_tree's best error=0.1312,\tbest estimator lgbm's best error=0.1215\n",
            "[flaml.automl.logger: 10-23 21:24:41] {2258} INFO - iteration 93, current learner xgboost\n",
            "[flaml.automl.logger: 10-23 21:25:09] {2442} INFO -  at 1129.0s,\testimator xgboost's best error=0.1240,\tbest estimator lgbm's best error=0.1215\n",
            "[flaml.automl.logger: 10-23 21:25:09] {2258} INFO - iteration 94, current learner rf\n",
            "[flaml.automl.logger: 10-23 21:25:24] {2442} INFO -  at 1143.7s,\testimator rf's best error=0.1476,\tbest estimator lgbm's best error=0.1215\n",
            "[flaml.automl.logger: 10-23 21:25:24] {2258} INFO - iteration 95, current learner lgbm\n",
            "[flaml.automl.logger: 10-23 21:25:49] {2442} INFO -  at 1169.0s,\testimator lgbm's best error=0.1215,\tbest estimator lgbm's best error=0.1215\n",
            "[flaml.automl.logger: 10-23 21:25:49] {2258} INFO - iteration 96, current learner extra_tree\n",
            "[flaml.automl.logger: 10-23 21:26:50] {2442} INFO -  at 1230.4s,\testimator extra_tree's best error=0.1312,\tbest estimator lgbm's best error=0.1215\n",
            "[flaml.automl.logger: 10-23 21:26:50] {2258} INFO - iteration 97, current learner rf\n",
            "[flaml.automl.logger: 10-23 21:26:58] {2442} INFO -  at 1238.4s,\testimator rf's best error=0.1476,\tbest estimator lgbm's best error=0.1215\n",
            "[flaml.automl.logger: 10-23 21:26:58] {2258} INFO - iteration 98, current learner rf\n",
            "[flaml.automl.logger: 10-23 21:27:24] {2442} INFO -  at 1263.9s,\testimator rf's best error=0.1450,\tbest estimator lgbm's best error=0.1215\n",
            "[flaml.automl.logger: 10-23 21:27:24] {2258} INFO - iteration 99, current learner lgbm\n",
            "[flaml.automl.logger: 10-23 21:31:56] {2442} INFO -  at 1535.7s,\testimator lgbm's best error=0.1215,\tbest estimator lgbm's best error=0.1215\n",
            "[flaml.automl.logger: 10-23 21:31:56] {2258} INFO - iteration 100, current learner xgb_limitdepth\n",
            "[flaml.automl.logger: 10-23 21:31:59] {2442} INFO -  at 1538.8s,\testimator xgb_limitdepth's best error=0.1327,\tbest estimator lgbm's best error=0.1215\n",
            "[flaml.automl.logger: 10-23 21:31:59] {2258} INFO - iteration 101, current learner xgb_limitdepth\n",
            "[flaml.automl.logger: 10-23 21:32:01] {2442} INFO -  at 1541.2s,\testimator xgb_limitdepth's best error=0.1327,\tbest estimator lgbm's best error=0.1215\n",
            "[flaml.automl.logger: 10-23 21:32:01] {2258} INFO - iteration 102, current learner xgb_limitdepth\n",
            "[flaml.automl.logger: 10-23 21:32:04] {2442} INFO -  at 1543.6s,\testimator xgb_limitdepth's best error=0.1327,\tbest estimator lgbm's best error=0.1215\n",
            "[flaml.automl.logger: 10-23 21:32:04] {2258} INFO - iteration 103, current learner xgb_limitdepth\n",
            "[flaml.automl.logger: 10-23 21:32:06] {2442} INFO -  at 1545.6s,\testimator xgb_limitdepth's best error=0.1327,\tbest estimator lgbm's best error=0.1215\n",
            "[flaml.automl.logger: 10-23 21:32:06] {2258} INFO - iteration 104, current learner lgbm\n",
            "[flaml.automl.logger: 10-23 21:32:42] {2442} INFO -  at 1581.9s,\testimator lgbm's best error=0.1215,\tbest estimator lgbm's best error=0.1215\n",
            "[flaml.automl.logger: 10-23 21:32:42] {2258} INFO - iteration 105, current learner xgb_limitdepth\n",
            "[flaml.automl.logger: 10-23 21:32:45] {2442} INFO -  at 1584.7s,\testimator xgb_limitdepth's best error=0.1327,\tbest estimator lgbm's best error=0.1215\n",
            "[flaml.automl.logger: 10-23 21:32:45] {2258} INFO - iteration 106, current learner xgb_limitdepth\n",
            "[flaml.automl.logger: 10-23 21:32:47] {2442} INFO -  at 1586.5s,\testimator xgb_limitdepth's best error=0.1327,\tbest estimator lgbm's best error=0.1215\n",
            "[flaml.automl.logger: 10-23 21:32:47] {2258} INFO - iteration 107, current learner xgb_limitdepth\n",
            "[flaml.automl.logger: 10-23 21:32:53] {2442} INFO -  at 1592.7s,\testimator xgb_limitdepth's best error=0.1327,\tbest estimator lgbm's best error=0.1215\n",
            "[flaml.automl.logger: 10-23 21:32:53] {2258} INFO - iteration 108, current learner xgb_limitdepth\n",
            "[flaml.automl.logger: 10-23 21:32:55] {2442} INFO -  at 1595.2s,\testimator xgb_limitdepth's best error=0.1327,\tbest estimator lgbm's best error=0.1215\n",
            "[flaml.automl.logger: 10-23 21:32:55] {2258} INFO - iteration 109, current learner xgb_limitdepth\n",
            "[flaml.automl.logger: 10-23 21:32:57] {2442} INFO -  at 1597.4s,\testimator xgb_limitdepth's best error=0.1327,\tbest estimator lgbm's best error=0.1215\n",
            "[flaml.automl.logger: 10-23 21:32:57] {2258} INFO - iteration 110, current learner xgb_limitdepth\n",
            "[flaml.automl.logger: 10-23 21:33:01] {2442} INFO -  at 1600.6s,\testimator xgb_limitdepth's best error=0.1316,\tbest estimator lgbm's best error=0.1215\n",
            "[flaml.automl.logger: 10-23 21:33:01] {2258} INFO - iteration 111, current learner extra_tree\n",
            "[flaml.automl.logger: 10-23 21:33:22] {2442} INFO -  at 1621.7s,\testimator extra_tree's best error=0.1312,\tbest estimator lgbm's best error=0.1215\n",
            "[flaml.automl.logger: 10-23 21:33:22] {2258} INFO - iteration 112, current learner lgbm\n",
            "[flaml.automl.logger: 10-23 21:35:14] {2442} INFO -  at 1734.5s,\testimator lgbm's best error=0.1190,\tbest estimator lgbm's best error=0.1190\n",
            "[flaml.automl.logger: 10-23 21:35:14] {2258} INFO - iteration 113, current learner sgd\n",
            "[flaml.automl.logger: 10-23 21:35:19] {2442} INFO -  at 1739.3s,\testimator sgd's best error=0.4067,\tbest estimator lgbm's best error=0.1190\n",
            "[flaml.automl.logger: 10-23 21:35:19] {2258} INFO - iteration 114, current learner xgb_limitdepth\n",
            "[flaml.automl.logger: 10-23 21:35:23] {2442} INFO -  at 1742.9s,\testimator xgb_limitdepth's best error=0.1316,\tbest estimator lgbm's best error=0.1190\n",
            "[flaml.automl.logger: 10-23 21:35:23] {2258} INFO - iteration 115, current learner sgd\n",
            "[flaml.automl.logger: 10-23 21:35:24] {2442} INFO -  at 1744.5s,\testimator sgd's best error=0.4067,\tbest estimator lgbm's best error=0.1190\n",
            "[flaml.automl.logger: 10-23 21:35:24] {2258} INFO - iteration 116, current learner rf\n",
            "[flaml.automl.logger: 10-23 21:35:40] {2442} INFO -  at 1760.2s,\testimator rf's best error=0.1413,\tbest estimator lgbm's best error=0.1190\n",
            "[flaml.automl.logger: 10-23 21:35:40] {2258} INFO - iteration 117, current learner rf\n",
            "[flaml.automl.logger: 10-23 21:36:02] {2442} INFO -  at 1781.7s,\testimator rf's best error=0.1413,\tbest estimator lgbm's best error=0.1190\n",
            "[flaml.automl.logger: 10-23 21:36:02] {2258} INFO - iteration 118, current learner sgd\n",
            "[flaml.automl.logger: 10-23 21:36:04] {2442} INFO -  at 1784.2s,\testimator sgd's best error=0.4067,\tbest estimator lgbm's best error=0.1190\n",
            "[flaml.automl.logger: 10-23 21:36:04] {2258} INFO - iteration 119, current learner xgb_limitdepth\n",
            "[flaml.automl.logger: 10-23 21:36:09] {2442} INFO -  at 1788.5s,\testimator xgb_limitdepth's best error=0.1316,\tbest estimator lgbm's best error=0.1190\n",
            "[flaml.automl.logger: 10-23 21:36:09] {2258} INFO - iteration 120, current learner xgb_limitdepth\n",
            "[flaml.automl.logger: 10-23 21:36:12] {2442} INFO -  at 1792.5s,\testimator xgb_limitdepth's best error=0.1279,\tbest estimator lgbm's best error=0.1190\n",
            "[flaml.automl.logger: 10-23 21:36:12] {2258} INFO - iteration 121, current learner xgb_limitdepth\n",
            "[flaml.automl.logger: 10-23 21:36:15] {2442} INFO -  at 1795.1s,\testimator xgb_limitdepth's best error=0.1279,\tbest estimator lgbm's best error=0.1190\n",
            "[flaml.automl.logger: 10-23 21:36:15] {2258} INFO - iteration 122, current learner xgb_limitdepth\n",
            "[flaml.automl.logger: 10-23 21:36:20] {2442} INFO -  at 1799.6s,\testimator xgb_limitdepth's best error=0.1279,\tbest estimator lgbm's best error=0.1190\n",
            "[flaml.automl.logger: 10-23 21:36:20] {2258} INFO - iteration 123, current learner lrl1\n"
          ]
        },
        {
          "output_type": "stream",
          "name": "stderr",
          "text": [
            "INFO:flaml.tune.searcher.blendsearch:No low-cost partial config given to the search algorithm. For cost-frugal search, consider providing low-cost values for cost-related hps via 'low_cost_partial_config'. More info can be found at https://microsoft.github.io/FLAML/docs/FAQ#about-low_cost_partial_config-in-tune\n"
          ]
        },
        {
          "output_type": "stream",
          "name": "stdout",
          "text": [
            "[flaml.automl.logger: 10-23 21:36:25] {2442} INFO -  at 1805.1s,\testimator lrl1's best error=0.3895,\tbest estimator lgbm's best error=0.1190\n",
            "[flaml.automl.logger: 10-23 21:36:43] {2685} INFO - retrain lgbm for 17.8s\n",
            "[flaml.automl.logger: 10-23 21:36:43] {2688} INFO - retrained model: LGBMClassifier(colsample_bytree=0.639343560735908,\n",
            "               learning_rate=0.06768177253578582, max_bin=1023,\n",
            "               min_child_samples=4, n_estimators=1, n_jobs=-1, num_leaves=10,\n",
            "               reg_alpha=0.015893117884432133, reg_lambda=0.13929328197891047,\n",
            "               verbose=-1)\n",
            "[flaml.automl.logger: 10-23 21:36:43] {1985} INFO - fit succeeded\n",
            "[flaml.automl.logger: 10-23 21:36:43] {1986} INFO - Time taken to find the best model: 1734.4693546295166\n"
          ]
        }
      ],
      "source": [
        "from flaml import AutoML\n",
        "automl = AutoML()\n",
        "\n",
        "parametrs = {\n",
        "     'time_budget': 1800,\n",
        "     'metric': 'roc_auc',\n",
        "     'log_file_name': 'log.txt',\n",
        "     'log_training_metric': True,\n",
        "     'task': 'classification'\n",
        "}\n",
        "\n",
        "automl.fit(X_train=X_train, y_train=y_train['label'], **parametrs)"
      ]
    },
    {
      "cell_type": "code",
      "execution_count": 12,
      "metadata": {
        "colab": {
          "base_uri": "https://localhost:8080/",
          "height": 36
        },
        "id": "6O8UFVy7plle",
        "outputId": "18aa43e2-fbef-44af-a8c2-2d431a9ce295"
      },
      "outputs": [
        {
          "output_type": "execute_result",
          "data": {
            "text/plain": [
              "'lgbm'"
            ],
            "application/vnd.google.colaboratory.intrinsic+json": {
              "type": "string"
            }
          },
          "metadata": {},
          "execution_count": 12
        }
      ],
      "source": [
        "automl.best_estimator"
      ]
    },
    {
      "cell_type": "code",
      "execution_count": 13,
      "metadata": {
        "colab": {
          "base_uri": "https://localhost:8080/"
        },
        "id": "pfvIc8fMrzDr",
        "outputId": "5f8554eb-93a2-45dd-b0b7-e0afc97473d6"
      },
      "outputs": [
        {
          "output_type": "execute_result",
          "data": {
            "text/plain": [
              "0.8810269177840967"
            ]
          },
          "metadata": {},
          "execution_count": 13
        }
      ],
      "source": [
        "1 - automl.best_loss"
      ]
    },
    {
      "cell_type": "code",
      "execution_count": 14,
      "metadata": {
        "colab": {
          "base_uri": "https://localhost:8080/"
        },
        "id": "ZUL4d77Vr8Mx",
        "outputId": "ae765a4e-e112-4fef-cf75-60b570f7346c"
      },
      "outputs": [
        {
          "output_type": "execute_result",
          "data": {
            "text/plain": [
              "{'n_estimators': 2152,\n",
              " 'num_leaves': 10,\n",
              " 'min_child_samples': 4,\n",
              " 'learning_rate': 0.06768177253578582,\n",
              " 'log_max_bin': 10,\n",
              " 'colsample_bytree': 0.639343560735908,\n",
              " 'reg_alpha': 0.015893117884432133,\n",
              " 'reg_lambda': 0.13929328197891047}"
            ]
          },
          "metadata": {},
          "execution_count": 14
        }
      ],
      "source": [
        "params = automl.best_config\n",
        "params"
      ]
    },
    {
      "cell_type": "code",
      "execution_count": 15,
      "metadata": {
        "colab": {
          "base_uri": "https://localhost:8080/"
        },
        "id": "FkcGAM7chlYJ",
        "outputId": "0ec8431f-be73-4c1a-9168-6600821697cf"
      },
      "outputs": [
        {
          "output_type": "execute_result",
          "data": {
            "text/plain": [
              "['best_lgbm_model.pkl']"
            ]
          },
          "metadata": {},
          "execution_count": 15
        }
      ],
      "source": [
        "import joblib\n",
        "\n",
        "best_model = automl.model.estimator\n",
        "joblib.dump(best_model, 'best_lgbm_model.pkl')"
      ]
    },
    {
      "cell_type": "code",
      "source": [
        "loaded_model = joblib.load('/content/best_lgbm_model.pkl')\n",
        "\n",
        "predictions = loaded_model.predict_proba(X_test[['dates_len', 'period_days',\n",
        "       'values_mean', 'values_min', 'values_max', 'values_std',\n",
        "       'values_median', 'mean_diff', 'Q3', 'IQR',\n",
        "       'outliers', 'unique_months', 'unique_years', 'values_skew',\n",
        "       'values_kurtosis', 'max_diff', 'min_diff', 'values_pct_10',\n",
        "       'values_pct_90', 'fft_max', 'fft_mean', 'fft_std',\n",
        "       'autocorr_lag1', 'autocorr_lag2', 'n_peaks']])"
      ],
      "metadata": {
        "id": "Gc7hAYXFT9DL"
      },
      "execution_count": 46,
      "outputs": []
    },
    {
      "cell_type": "code",
      "source": [
        "from sklearn.metrics import classification_report, roc_auc_score\n",
        "\n",
        "print(\"ROC AUC Score:\", roc_auc_score(y_test, predictions[:, 1]))"
      ],
      "metadata": {
        "colab": {
          "base_uri": "https://localhost:8080/"
        },
        "id": "57sIm_BfUCNb",
        "outputId": "b351f09a-b11a-4821-8946-739078c450b2"
      },
      "execution_count": 47,
      "outputs": [
        {
          "output_type": "stream",
          "name": "stdout",
          "text": [
            "ROC AUC Score: 0.8626346507256905\n"
          ]
        }
      ]
    },
    {
      "cell_type": "code",
      "source": [],
      "metadata": {
        "id": "PnvWRWZmUx0O"
      },
      "execution_count": null,
      "outputs": []
    }
  ]
}